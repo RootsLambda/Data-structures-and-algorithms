{
 "cells": [
  {
   "cell_type": "markdown",
   "metadata": {},
   "source": [
    "# 1. Định nghĩa cây B (B-Tree)"
   ]
  },
  {
   "cell_type": "markdown",
   "metadata": {},
   "source": [
    "Cây nhị phân cân bằng thì tại mỗi nút của cây thì số nút cây con trái và số nút cây con phải hơn kém nhau nhiều nhất 1. Độ phức tạp của thuật toán là `O(log2n)`.\n",
    "\n",
    "Tuy nhiên cây nhị phân cân bằng vẫn còn nhược điểm đó là **mỗi nút chỉ chứa một khóa** và khi thêm nhiều khóa vào sẽ **làm tăng chiều cao của cây** dẫn đến thuật toán chạy vòng lặp càng lâu hơn.\n",
    "\n",
    "Để khắc phục hạn chế này người ta **đề xuất ra cây B.**\n",
    "\n",
    "Một trang của cây B có nhiều trang con, một cây nhiều nhánh, khi số lượng khóa key tăng sẽ hạn chế việc tăng chiều cao của cây.\n",
    "\n",
    "**Một số đặc điểm của cây B:**\n",
    "+ Mỗi trang có tối đa 2xn khóa\n",
    "+ Mỗi trang có ít nhất n khóa, ngoại trừ khóa gốc là có 1 khóa\n",
    "+ Mỗi trang hoặc là trang lá có m + 1 khóa của trang này\n",
    "+ Tất cả trang lá phải có cùng mức\n"
   ]
  },
  {
   "cell_type": "markdown",
   "metadata": {},
   "source": [
    "<img align=\"left\" width=\"500\" height=\"500\" src=\"images/B_Tree.png\">"
   ]
  },
  {
   "cell_type": "markdown",
   "metadata": {},
   "source": [
    "# 2. Cấu trúc dữ liệu\n",
    "## 2.1. Cấu trúc dữ liệu của phần tử khóa\n",
    "+ Key: Chứa khóa của phần tử\n",
    "+ Next: Con trỏ trang con phải\n",
    "\n",
    "## 2.2. Cấu trúc dữ liệu của trang\n",
    "+ P0: Con trỏ trang đầu tiên\n",
    "+ KeyItem: mảng chứa phần tử khóa của trang\n",
    "+ KeyNum: Số khóa hiện tại của trang\n",
    "\n",
    "## 2.3. Cấu trúc dữ liệu của cây\n",
    "+ Root: Con trỏ trang gốc của cây B\n",
    "\n",
    "# 3. Các thao tác với cây B\n",
    "+ Khởi tạo cây \n",
    "+ Tìm kiếm khóa trong cây\n",
    "+ Thêm khóa vào cây\n",
    "+ Loại bỏ khóa trong cây\n",
    "+ Duyệt cây"
   ]
  },
  {
   "cell_type": "code",
   "execution_count": 1,
   "metadata": {},
   "outputs": [
    {
     "name": "stdout",
     "output_type": "stream",
     "text": [
      "Level  0   2:(2, 4) (5, 10) \n",
      "Level  1   2:(0, 0) (1, 2) \n",
      "Level  1   2:(3, 6) (4, 8) \n",
      "Level  1   4:(6, 12) (7, 14) (8, 16) (9, 18) \n",
      "\n",
      "Found\n"
     ]
    }
   ],
   "source": [
    "class BTreeNode:\n",
    "    def __init__(self, leaf=False):\n",
    "        self.leaf = leaf\n",
    "        self.keys = []\n",
    "        self.child = []\n",
    "class BTree:\n",
    "    def __init__(self, t):\n",
    "        self.root = BTreeNode(True)\n",
    "        self.t = t\n",
    "        \n",
    "    def insert(self, k):\n",
    "        root = self.root\n",
    "        if len(root.keys) == (2 * self.t) - 1:\n",
    "            temp = BTreeNode()\n",
    "            self.root = temp\n",
    "            temp.child.insert(0, root)\n",
    "            self.split_child(temp, 0)\n",
    "            self.insert_non_full(temp, k)\n",
    "        else:\n",
    "            self.insert_non_full(root, k)\n",
    "\n",
    "    # Chèn nonfull\n",
    "    def insert_non_full(self, x, k):\n",
    "        i = len(x.keys) - 1\n",
    "        if x.leaf:\n",
    "            x.keys.append((None, None))\n",
    "            while i >= 0 and k[0] < x.keys[i][0]:\n",
    "                x.keys[i + 1] = x.keys[i]\n",
    "                i -= 1\n",
    "            x.keys[i + 1] = k\n",
    "        else:\n",
    "            while i >= 0 and k[0] < x.keys[i][0]:\n",
    "                i -= 1\n",
    "            i += 1\n",
    "            if len(x.child[i].keys) == (2 * self.t) - 1:\n",
    "                self.split_child(x, i)\n",
    "                if k[0] > x.keys[i][0]:\n",
    "                    i += 1\n",
    "            self.insert_non_full(x.child[i], k)\n",
    "\n",
    "    # Cắt nút con\n",
    "    def split_child(self, x, i):\n",
    "        t = self.t\n",
    "        y = x.child[i]\n",
    "        z = BTreeNode(y.leaf)\n",
    "        x.child.insert(i + 1, z)\n",
    "        x.keys.insert(i, y.keys[t - 1])\n",
    "        z.keys = y.keys[t: (2 * t) - 1]\n",
    "        y.keys = y.keys[0: t - 1]\n",
    "        if not y.leaf:\n",
    "            z.child = y.child[t: 2 * t]\n",
    "            y.child = y.child[0: t - 1]\n",
    "\n",
    "    def print_tree(self, x, l=0):\n",
    "        print(\"Level \", l, \" \", len(x.keys), end=\":\")\n",
    "        for i in x.keys:\n",
    "              print(i, end=\" \")\n",
    "        print()\n",
    "        l += 1\n",
    "        if len(x.child) > 0:\n",
    "            for i in x.child:\n",
    "                self.print_tree(i, l)\n",
    "\n",
    "  # Tìm kiếm khóa trong cây\n",
    "    def search_key(self, k, x=None):\n",
    "        if x is not None:\n",
    "            i = 0\n",
    "            while i < len(x.keys) and k > x.keys[i][0]:\n",
    "                i += 1\n",
    "            if i < len(x.keys) and k == x.keys[i][0]:\n",
    "                return (x, i)\n",
    "            elif x.leaf:\n",
    "                return None\n",
    "            else:\n",
    "                return self.search_key(k, x.child[i])\n",
    "\n",
    "        else:\n",
    "            return self.search_key(k, self.root)\n",
    "\n",
    "\n",
    "def main():\n",
    "    B = BTree(3)\n",
    "\n",
    "    for i in range(10):\n",
    "        B.insert((i, 2 * i))\n",
    "\n",
    "    B.print_tree(B.root)\n",
    "\n",
    "    if B.search_key(8) is not None:\n",
    "        print(\"\\nFound\")\n",
    "    else:\n",
    "        print(\"\\nNot Found\")\n",
    "if __name__ == '__main__':\n",
    "    main()\n"
   ]
  },
  {
   "cell_type": "code",
   "execution_count": null,
   "metadata": {},
   "outputs": [],
   "source": []
  }
 ],
 "metadata": {
  "kernelspec": {
   "display_name": "Python 3",
   "language": "python",
   "name": "python3"
  },
  "language_info": {
   "codemirror_mode": {
    "name": "ipython",
    "version": 3
   },
   "file_extension": ".py",
   "mimetype": "text/x-python",
   "name": "python",
   "nbconvert_exporter": "python",
   "pygments_lexer": "ipython3",
   "version": "3.7.0"
  }
 },
 "nbformat": 4,
 "nbformat_minor": 2
}

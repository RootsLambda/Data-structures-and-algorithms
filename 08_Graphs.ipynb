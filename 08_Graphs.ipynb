{
 "cells": [
  {
   "cell_type": "markdown",
   "metadata": {},
   "source": [
    "# 8.1 Định nghĩa về đồ thị"
   ]
  },
  {
   "cell_type": "markdown",
   "metadata": {},
   "source": [
    "Đồ thị là được biểu diễn bằng hình ảnh của một tập hợp các đối tượng trong đó một số cặp đối tượng được nối với nhau bằng các liên kết. Các đối tượng liên kết được biểu diễn bằng các điểm được gọi là **đỉnh(vertex)** và các liên kết nối các đỉnh được gọi là các **cạnh(edge).**\n",
    "\n",
    "<img align=\"left\" width=\"400\" height=\"400\" src=\"images/Graph.png\">\n"
   ]
  },
  {
   "cell_type": "markdown",
   "metadata": {},
   "source": [
    "**Đồ thị có hướng (directed graph)**: Mỗi cạnh được xác định bởi đỉnh bắt đầu và đỉnh kết thúc của nó. Có n sự lựa chọn cho đỉnh bắt đầu. Vì không có tự vòng lặp nên có n-1 sự lựa chọn cho đỉnh kết thúc. Nhân chúng với nhau ta có n (n-1) tất cả các lựa chọn có thể.\n",
    "\n",
    "**Đồ thị vô hướng (undirected graph)**: Trong một đồ thị vô hướng, mỗi cạnh được xác định bởi hai điểm cuối của nó và thứ tự không quan trọng. Do đó, số lượng các cạnh là số lượng các tập con có kích thước 2 được chọn từ tập các đỉnh. Vì tập các đỉnh có kích thước n nên số lượng các tập con đó được cho bởi hệ số nhị thức C (n, 2) (còn được gọi là \"n chọn 2\"). \n",
    "\n",
    "Sử dụng công thức cho hệ số nhị thức: C (n, 2) = n (n-1) / 2\n"
   ]
  },
  {
   "cell_type": "markdown",
   "metadata": {},
   "source": [
    "<img align=\"left\" width=\"500\" height=\"500\" src=\"https://miro.medium.com/max/1200/1*HpYMnHjGZWmH9NKRG05lAg.jpeg\">\n"
   ]
  },
  {
   "cell_type": "markdown",
   "metadata": {},
   "source": [
    "**Đồ thị đầy (dense graph)**: Là đồ thị có số cung gần bằng nx(n-1) hoặc có số cạnh gần bằng (nx(n-1))/2 với n là số đỉnh của đồ thị. Ngược lại sẽ là **đồ thị thưa (sparse graph).**\n",
    "\n",
    "<img align=\"left\" width=\"500\" height=\"500\" src=\"https://miro.medium.com/max/1212/1*oqlShfFGSxt8vHXHK-a8SQ.png\">\n"
   ]
  },
  {
   "cell_type": "markdown",
   "metadata": {},
   "source": [
    "# 8.2 Tạo đồ thị"
   ]
  },
  {
   "attachments": {
    "bandicam%202022-07-22%2006-39-42-739.jpg": {
     "image/jpeg": "[encoded data removed]"
    }
   },
   "cell_type": "markdown",
   "metadata": {},
   "source": [
    "![bandicam%202022-07-22%2006-39-42-739.jpg](attachment:bandicam%202022-07-22%2006-39-42-739.jpg)"
   ]
  },
  {
   "cell_type": "markdown",
   "metadata": {},
   "source": [
    "**Trong đó:**\n",
    "\n",
    "Tập V là tập các đỉnh gồm có {a, b, c, d, e}\n",
    "\n",
    "Tập E(u,v) là các cung với u, v thuộc tập V là các đỉnh nguồn và đỉnh đích gồm có {ab, ac ,bd, cd, de}"
   ]
  },
  {
   "cell_type": "markdown",
   "metadata": {},
   "source": [
    "## Các thao tác với đồ thị\n",
    "+ Khởi tạo đồ thị\n",
    "+ Tìm kiếm một đỉnh của đồ thị\n",
    "+ Thêm một đỉnh vào đồ thị\n",
    "+ Loại bỏ một đỉnh từ đồ thị\n",
    "+ Tìm kiếm một cung của đồ thị\n",
    "+ Hiển thị đồ thị"
   ]
  },
  {
   "cell_type": "code",
   "execution_count": 1,
   "metadata": {},
   "outputs": [
    {
     "name": "stdout",
     "output_type": "stream",
     "text": [
      "{'a': ['b', 'c'], 'b': ['a', 'd'], 'c': ['a', 'd'], 'd': ['e'], 'e': ['d']}\n"
     ]
    }
   ],
   "source": [
    "graph = { \n",
    "   \"a\" : [\"b\",\"c\"],\n",
    "   \"b\" : [\"a\", \"d\"],\n",
    "   \"c\" : [\"a\", \"d\"],\n",
    "   \"d\" : [\"e\"],\n",
    "   \"e\" : [\"d\"]\n",
    "}\n",
    "print(graph)"
   ]
  },
  {
   "cell_type": "markdown",
   "metadata": {},
   "source": [
    "### Tìm các đỉnh của đồ thị"
   ]
  },
  {
   "cell_type": "code",
   "execution_count": 2,
   "metadata": {},
   "outputs": [
    {
     "name": "stdout",
     "output_type": "stream",
     "text": [
      "['a', 'b', 'c', 'd', 'e']\n"
     ]
    }
   ],
   "source": [
    "class graph:\n",
    "    def __init__(self,gdict=None):\n",
    "        if gdict is None:\n",
    "            gdict = []\n",
    "        self.gdict = gdict\n",
    "# Lấy các khóa của dictionary là đỉnh\n",
    "    def getVertices(self):\n",
    "        return list(self.gdict.keys())\n",
    "\n",
    "graph_elements = { \n",
    "   \"a\" : [\"b\",\"c\"],\n",
    "   \"b\" : [\"a\", \"d\"],\n",
    "   \"c\" : [\"a\", \"d\"],\n",
    "   \"d\" : [\"e\"],\n",
    "   \"e\" : [\"d\"]\n",
    "}\n",
    "g = graph(graph_elements)\n",
    "print(g.getVertices())"
   ]
  },
  {
   "cell_type": "markdown",
   "metadata": {},
   "source": [
    "### Các cạnh của graph\n",
    "Việc tìm các cạnh của đồ thị khó hơn so với các đỉnh vì chúng ta phải tìm từng cặp đỉnh có một cạnh ở giữa chúng. Vì vậy, chúng tôi tạo một danh sách trống các cạnh sau đó lặp qua các giá trị cạnh được liên kết với mỗi đỉnh. Một danh sách được hình thành có chứa nhóm cạnh khác biệt được tìm thấy từ các đỉnh."
   ]
  },
  {
   "cell_type": "code",
   "execution_count": 3,
   "metadata": {},
   "outputs": [
    {
     "name": "stdout",
     "output_type": "stream",
     "text": [
      "[{'b', 'a'}, {'c', 'a'}, {'b', 'd'}, {'c', 'd'}, {'e', 'd'}]\n"
     ]
    }
   ],
   "source": [
    "class graph:\n",
    "    def __init__(self,gdict=None):\n",
    "        if gdict is None:\n",
    "            gdict = {}\n",
    "        self.gdict = gdict\n",
    "\n",
    "    def edges(self):\n",
    "        return self.findedges()\n",
    "# Tìm danh sách các cạnh riêng biệt\n",
    "    def findedges(self):\n",
    "        edgename = []\n",
    "        for vrtx in self.gdict:\n",
    "            for nxtvrtx in self.gdict[vrtx]:\n",
    "                if {nxtvrtx, vrtx} not in edgename:\n",
    "                    edgename.append({vrtx, nxtvrtx})\n",
    "        return edgename\n",
    "    \n",
    "graph_elements = { \n",
    "   \"a\" : [\"b\",\"c\"],\n",
    "   \"b\" : [\"a\", \"d\"],\n",
    "   \"c\" : [\"a\", \"d\"],\n",
    "   \"d\" : [\"e\"],\n",
    "   \"e\" : [\"d\"]\n",
    "}\n",
    "g = graph(graph_elements)\n",
    "print(g.edges())"
   ]
  },
  {
   "cell_type": "markdown",
   "metadata": {},
   "source": [
    "### Thêm một đỉnh"
   ]
  },
  {
   "cell_type": "code",
   "execution_count": 4,
   "metadata": {},
   "outputs": [
    {
     "name": "stdout",
     "output_type": "stream",
     "text": [
      "['a', 'b', 'c', 'd', 'e', 'f']\n"
     ]
    }
   ],
   "source": [
    "class graph:\n",
    "    def __init__(self,gdict=None):\n",
    "        if gdict is None:\n",
    "            gdict = {}\n",
    "        self.gdict = gdict\n",
    "    def getVertices(self):\n",
    "        return list(self.gdict.keys())\n",
    "    def addVertex(self, vrtx):\n",
    "        if vrtx not in self.gdict:\n",
    "            self.gdict[vrtx] = []\n",
    "\n",
    "graph_elements = { \n",
    "   \"a\" : [\"b\",\"c\"],\n",
    "   \"b\" : [\"a\", \"d\"],\n",
    "   \"c\" : [\"a\", \"d\"],\n",
    "   \"d\" : [\"e\"],\n",
    "   \"e\" : [\"d\"]\n",
    "}\n",
    "g = graph(graph_elements)\n",
    "g.addVertex(\"f\")\n",
    "print(g.getVertices())"
   ]
  },
  {
   "cell_type": "markdown",
   "metadata": {},
   "source": [
    "### Thêm một cạnh"
   ]
  },
  {
   "cell_type": "code",
   "execution_count": 5,
   "metadata": {},
   "outputs": [
    {
     "name": "stdout",
     "output_type": "stream",
     "text": [
      "[{'b', 'a'}, {'c', 'a'}, {'b', 'd'}, {'c', 'd'}, {'e', 'd'}, {'e', 'a'}]\n"
     ]
    }
   ],
   "source": [
    "class graph:\n",
    "    def __init__(self,gdict=None):\n",
    "        if gdict is None:\n",
    "            gdict = {}\n",
    "        self.gdict = gdict\n",
    "    def edges(self):\n",
    "        return self.findedges()\n",
    "    def AddEdge(self, edge):\n",
    "        edge = set(edge)\n",
    "        (vrtx1, vrtx2) = tuple(edge)\n",
    "        if vrtx1 in self.gdict:\n",
    "            self.gdict[vrtx1].append(vrtx2)\n",
    "        else:\n",
    "            self.gdict[vrtx1] = [vrtx2]\n",
    "# Tìm danh sách các cạnh\n",
    "    def findedges(self):\n",
    "        edgename = []\n",
    "        for vrtx in self.gdict:\n",
    "            for nxtvrtx in self.gdict[vrtx]:\n",
    "                if {nxtvrtx, vrtx} not in edgename:\n",
    "                    edgename.append({vrtx, nxtvrtx})\n",
    "        return edgename\n",
    "graph_elements = { \n",
    "   \"a\" : [\"b\",\"c\"],\n",
    "   \"b\" : [\"a\", \"d\"],\n",
    "   \"c\" : [\"a\", \"d\"],\n",
    "   \"d\" : [\"e\"],\n",
    "   \"e\" : [\"d\"]\n",
    "}\n",
    "g = graph(graph_elements)\n",
    "g.AddEdge({'a','e'})\n",
    "g.AddEdge({'a','c'})\n",
    "print(g.edges())"
   ]
  },
  {
   "cell_type": "markdown",
   "metadata": {},
   "source": [
    "# 8.3 Các thuật toán duyệt của đồ thị"
   ]
  },
  {
   "cell_type": "markdown",
   "metadata": {},
   "source": [
    "Đồ thị là cấu trúc dữ liệu rất hữu ích trong việc giải quyết nhiều thách thức toán học quan trọng. Ví dụ cấu trúc liên kết mạng máy tính hoặc phân tích cấu trúc phân tử của các hợp chất hóa học. Chúng cũng được sử dụng trong giao thông thành phố hoặc lập kế hoạch tuyến đường. Tất cả các ứng dụng này đều có một thách thức chung là duyệt qua đồ thị bằng cách sử dụng các cạnh của chúng và đảm bảo rằng tất cả các nút của đồ thị đều được truy cập. Có hai phương pháp phổ biến là **Depth First Search** và **Breadth First Search.**"
   ]
  },
  {
   "cell_type": "markdown",
   "metadata": {},
   "source": [
    "## DFS(Depth First  Search)\n",
    "\n",
    "Còn được gọi là tìm kiếm đầu tiên theo độ sâu (DFS), thuật toán này duyệt qua một đồ thị theo chuyển động phường độ sâu và sử dụng một ngăn xếp để ghi nhớ để lấy đỉnh tiếp theo để bắt đầu tìm kiếm, khi một điểm cuối xảy ra trong bất kỳ lần lặp nào. Chúng tôi triển khai DFS cho biểu đồ trong python bằng cách sử dụng các kiểu dữ liệu dictionary vì chúng cung cấp các chức năng cần thiết để theo dõi các nút đã truy cập và chưa truy cập.\n",
    "<img align=\"left\" width=\"500\" height=\"500\" src=\"images/DFS.jpg\">\n"
   ]
  },
  {
   "cell_type": "code",
   "execution_count": 6,
   "metadata": {},
   "outputs": [
    {
     "name": "stdout",
     "output_type": "stream",
     "text": [
      "a\n",
      "b\n",
      "d\n",
      "e\n",
      "c\n"
     ]
    },
    {
     "data": {
      "text/plain": [
       "{'a', 'b', 'c', 'd', 'e'}"
      ]
     },
     "execution_count": 6,
     "metadata": {},
     "output_type": "execute_result"
    }
   ],
   "source": [
    "class graph:\n",
    "    def __init__(self,gdict=None):\n",
    "        if gdict is None:\n",
    "            gdict = {}\n",
    "        self.gdict = gdict\n",
    "# Kiểm tra node đã được duyệt hay chưa\n",
    "def dfs(graph, start, visited = None):\n",
    "    if visited is None:\n",
    "        visited = set()\n",
    "    visited.add(start)\n",
    "    print(start)\n",
    "    for next in graph[start] - visited:\n",
    "        dfs(graph, next, visited)\n",
    "    return visited\n",
    "\n",
    "gdict = { \n",
    "   \"a\" : set([\"b\",\"c\"]),\n",
    "   \"b\" : set([\"a\", \"d\"]),\n",
    "   \"c\" : set([\"a\", \"d\"]),\n",
    "   \"d\" : set([\"e\"]),\n",
    "   \"e\" : set([\"a\"])\n",
    "}\n",
    "dfs(gdict, 'a')"
   ]
  },
  {
   "cell_type": "markdown",
   "metadata": {},
   "source": [
    "## BFS (Breadth First Search)\n",
    "\n",
    "Còn được gọi là tìm kiếm đầu tiên theo chiều rộng (BFS), thuật toán này truyền qua chuyển động phường theo chiều rộng của đồ thị và sử dụng một hàng đợi để nhớ để lấy đỉnh tiếp theo để bắt đầu tìm kiếm, khi một điểm cuối xảy ra trong bất kỳ lần lặp nào.\n",
    "\n",
    "Chúng tôi triển khai BFS cho một biểu đồ trong python bằng cách sử dụng cấu trúc dữ liệu hàng đợi đã thảo luận trước đó. Khi chúng ta tiếp tục truy cập các nút không được truy cập liền kề và tiếp tục thêm nó vào hàng đợi. Sau đó, chúng tôi bắt đầu xếp hàng chỉ nút còn lại không có nút nào chưa được truy cập. Chúng tôi dừng chương trình khi không có nút liền kề tiếp theo được truy cập.\n",
    "\n",
    "<img align=\"left\" width=\"500\" height=\"500\" src=\"images/BFS.jpg\">"
   ]
  },
  {
   "cell_type": "code",
   "execution_count": 7,
   "metadata": {},
   "outputs": [
    {
     "name": "stdout",
     "output_type": "stream",
     "text": [
      "a\n",
      "b\n",
      "c\n",
      "d\n",
      "e\n"
     ]
    }
   ],
   "source": [
    "import collections\n",
    "class graph:\n",
    "    def __init__(self,gdict=None):\n",
    "        if gdict is None:\n",
    "            gdict = {}\n",
    "        self.gdict = gdict\n",
    "def bfs(graph, startnode):\n",
    "# Theo dõi visited và unvisited nodes sử dụng hàng đợi queue\n",
    "    seen, queue = set([startnode]), collections.deque([startnode])\n",
    "    while queue:\n",
    "        vertex = queue.popleft()\n",
    "        marked(vertex)\n",
    "        for node in graph[vertex]:\n",
    "            if node not in seen:\n",
    "                seen.add(node)\n",
    "                queue.append(node)\n",
    "def marked(n):\n",
    "    print(n)\n",
    "\n",
    "gdict = { \n",
    "   \"a\" : set([\"b\",\"c\"]),\n",
    "   \"b\" : set([\"a\", \"d\"]),\n",
    "   \"c\" : set([\"a\", \"d\"]),\n",
    "   \"d\" : set([\"e\"]),\n",
    "   \"e\" : set([\"a\"])\n",
    "}\n",
    "bfs(gdict, \"a\")"
   ]
  },
  {
   "cell_type": "markdown",
   "metadata": {},
   "source": [
    "## 8.4 Bài toán tuyến đường trong thành phố\n",
    "Hình bên dưới cho thấy các tuyến đường giữa các thành phố của một hãng hàng không cụ thể. Các vòng tròn trong hình đại diện cho các sân bay và các nhãn được liên kết đại diện cho tên mã sân bay (ví dụ: ATL là Sân bay Quốc tế HartsfieldJackson Atlanta gần Atlanta, Georgia). Một đường nối hai vòng tròn cho biết chuyến bay thẳng giữa hai sân bay.\n",
    "<img align=\"left\" width=\"600\" height=\"600\" src=\"images/Routes.jpg\">"
   ]
  },
  {
   "cell_type": "markdown",
   "metadata": {},
   "source": [
    "Hình ảnh sau khi loại bỏ biểu đồ map\n",
    "<img align=\"left\" width=\"600\" height=\"600\" src=\"images/Delete_map_routes.jpg\">"
   ]
  },
  {
   "cell_type": "markdown",
   "metadata": {},
   "source": [
    "Trong lý thuyết đồ thị toán học, vị trí của các đỉnh trong một hình dung của đồ thị là không\n",
    "quan trọng. Đồ thị này tương đương là\n",
    "<img align=\"left\" width=\"600\" height=\"600\" src=\"images/Adjust_routes.jpg\">"
   ]
  },
  {
   "cell_type": "markdown",
   "metadata": {},
   "source": [
    "## Tạo đồ thị tuyến đường"
   ]
  },
  {
   "cell_type": "code",
   "execution_count": 8,
   "metadata": {},
   "outputs": [],
   "source": [
    "routes = {\n",
    "\"ATL\": {\"MIA\", \"DCA\", \"ORD\", \"MCI\", \"DFW\", \"DEN\"},\n",
    "\"MIA\": {\"LGA\", \"DCA\", \"ATL\", \"DFW\"},\n",
    "\"DFW\": {\"LAX\", \"DEN\", \"MCI\", \"ORD\", \"ATL\", \"MIA\"},\n",
    "\"LAX\": {\"SFO\", \"DEN\", \"MCI\", \"DFW\"},\n",
    "\"DEN\": {\"SFO\", \"LAX\", \"MCI\", \"DFW\", \"SEA\", \"ATL\"},\n",
    "\"SEA\": {\"SFO\", \"DEN\", \"ORD\", \"LGA\"},\n",
    "\"MCI\": {\"DEN\", \"LAX\", \"DFW\", \"ATL\", \"ORD\", \"LGA\"},\n",
    "\"ORD\": {\"SEA\", \"MCI\", \"DFW\", \"ATL\", \"DCA\", \"LGA\"},\n",
    "\"DCA\": {\"ORD\", \"ATL\", \"MIA\", \"LGA\"},\n",
    "\"LGA\": {\"SEA\", \"MCI\", \"ORD\", \"DCA\", \"MIA\"},\n",
    "\"SFO\": {\"SEA\", \"DEN\", \"LAX\"}\n",
    "}"
   ]
  },
  {
   "cell_type": "markdown",
   "metadata": {},
   "source": [
    "## Xem các tuyến đường mà từ sân bay ATL có thể đi"
   ]
  },
  {
   "cell_type": "code",
   "execution_count": 9,
   "metadata": {},
   "outputs": [
    {
     "name": "stdout",
     "output_type": "stream",
     "text": [
      "DFW\n",
      "MCI\n",
      "MIA\n",
      "DCA\n",
      "DEN\n",
      "ORD\n"
     ]
    }
   ],
   "source": [
    "for airport in routes[\"ATL\"]:\n",
    "    print(airport)"
   ]
  },
  {
   "cell_type": "code",
   "execution_count": 10,
   "metadata": {},
   "outputs": [
    {
     "data": {
      "text/plain": [
       "True"
      ]
     },
     "execution_count": 10,
     "metadata": {},
     "output_type": "execute_result"
    }
   ],
   "source": [
    "from queue import Queue\n",
    "q = Queue ()\n",
    "q.empty()"
   ]
  },
  {
   "cell_type": "code",
   "execution_count": 11,
   "metadata": {},
   "outputs": [
    {
     "data": {
      "text/plain": [
       "False"
      ]
     },
     "execution_count": 11,
     "metadata": {},
     "output_type": "execute_result"
    }
   ],
   "source": [
    "q.put(34)\n",
    "q.empty()"
   ]
  },
  {
   "cell_type": "code",
   "execution_count": 12,
   "metadata": {},
   "outputs": [],
   "source": [
    "q.put(\"Xin chào\")\n",
    "q.put([10, 20, 30]) "
   ]
  },
  {
   "cell_type": "code",
   "execution_count": 13,
   "metadata": {},
   "outputs": [
    {
     "data": {
      "text/plain": [
       "34"
      ]
     },
     "execution_count": 13,
     "metadata": {},
     "output_type": "execute_result"
    }
   ],
   "source": [
    "q.get() "
   ]
  },
  {
   "cell_type": "code",
   "execution_count": 14,
   "metadata": {},
   "outputs": [
    {
     "data": {
      "text/plain": [
       "'Xin chào'"
      ]
     },
     "execution_count": 14,
     "metadata": {},
     "output_type": "execute_result"
    }
   ],
   "source": [
    "q.get()"
   ]
  },
  {
   "cell_type": "code",
   "execution_count": 15,
   "metadata": {},
   "outputs": [
    {
     "data": {
      "text/plain": [
       "[10, 20, 30]"
      ]
     },
     "execution_count": 15,
     "metadata": {},
     "output_type": "execute_result"
    }
   ],
   "source": [
    "q.get()"
   ]
  },
  {
   "cell_type": "code",
   "execution_count": 16,
   "metadata": {},
   "outputs": [
    {
     "data": {
      "text/plain": [
       "True"
      ]
     },
     "execution_count": 16,
     "metadata": {},
     "output_type": "execute_result"
    }
   ],
   "source": [
    "q.empty()"
   ]
  },
  {
   "cell_type": "markdown",
   "metadata": {},
   "source": [
    "## Sử dụng thuật toán BFS\n",
    "<img align=\"left\" width=\"600\" height=\"600\" src=\"images/BFS_routes.jpg\">"
   ]
  },
  {
   "cell_type": "code",
   "execution_count": 17,
   "metadata": {},
   "outputs": [
    {
     "name": "stdout",
     "output_type": "stream",
     "text": [
      "['LAX', 'MCI', 'LGA', 'DCA']\n",
      "['MIA', 'DFW', 'LAX', 'SFO']\n",
      "['ATL', 'MIA']\n",
      "['LGA']\n",
      "['CLT', 'BNA']\n",
      "[]\n"
     ]
    }
   ],
   "source": [
    "from queue import Queue\n",
    "def bfs(graph, start_vertex, end_vertex):\n",
    "    \"\"\" Performs a breadth-first traversal of graph originating\n",
    "    at start_vertex and ending when the traversal encounters\n",
    "    end_vertex. Builds and returns a dictionary with\n",
    "    vertices mapped to their immediate predecessors on the\n",
    "    breadth-first traversal.\"\"\"\n",
    "# A dictionary of vertex predecessors encountered on a breadth-first\n",
    "# traversal from start_vertex to end_vertex.\n",
    "# The dictionary key is a vertex, and the associated value is\n",
    "# the vertex that comes immediately before the key on a\n",
    "# breadth-first traversal.\n",
    "# This dictionary initially is empty, and we will add vertices as\n",
    "# we \"visit\" them during the breadth-first traversal.\n",
    "    predecessor = {}\n",
    "    # Make an empty queue and insert the starting vertex\n",
    "    # The algorithm will extract and visit vertices from this queue\n",
    "    q = Queue()\n",
    "    q.put(start_vertex)\n",
    "    # Keep searching while the queue holds vertices yet to visit\n",
    "    # and we have yet to visit our destination vertex\n",
    "    while not q.empty() and end_vertex not in predecessor:\n",
    "        vertex = q.get() # Get vertex on the front of the queue\n",
    "        for adjacent_vertex in graph[vertex]: # Consider all adjacent vertices\n",
    "    # Has the predecessor of this vertex been established?\n",
    "            if adjacent_vertex not in predecessor:\n",
    "                q.put(adjacent_vertex) # Enqueue the vertex\n",
    "# Register which vertex should come immediately before this\n",
    "# one on a shortest path (this \"visits\" the vertex)\n",
    "                predecessor[adjacent_vertex] = vertex\n",
    "    return predecessor\n",
    "\n",
    "def find_path(graph, start_vertex, end_vertex):\n",
    "    \"\"\" Builds a list of vertices in order along the shortest path\n",
    "    from a starting vertex to an ending vertex in a graph.\n",
    "    graph: The graph to traverse.\n",
    "    start_vertex: The starting vertex.\n",
    "    end_vertex: The vertex to locate. \"\"\"\n",
    "# Compute predecessor of each vertex on a shortest path\n",
    "# Call the bfs function to build the predecessor dictionary\n",
    "    predecessor = bfs(graph, start_vertex, end_vertex)\n",
    "    path = [] # Path initially empty\n",
    "# Check that we were able to reach the destination vertex\n",
    "    if end_vertex in predecessor:\n",
    "# Start at the end and work backwards\n",
    "        path = [end_vertex]\n",
    "        vertex = end_vertex\n",
    "# Keep going until we get to the beginning of the path\n",
    "        while vertex != start_vertex:\n",
    "# Get vertex that comes immediately before on a shortest path\n",
    "            vertex = predecessor[vertex]\n",
    "# Prepend the predecessor vertex to the front of the path list\n",
    "            path = [vertex] + path\n",
    "    return path\n",
    "def main():\n",
    "    routes = {\n",
    "    \"ATL\": {\"MIA\", \"DCA\", \"ORD\", \"MCI\", \"DFW\", \"DEN\"},\n",
    "    \"MIA\": {\"LGA\", \"DCA\", \"ATL\", \"DFW\"},\n",
    "    \"DFW\": {\"LAX\", \"DEN\", \"MCI\", \"ORD\", \"ATL\", \"MIA\"},\n",
    "    \"LAX\": {\"SFO\", \"DEN\", \"MCI\", \"DFW\"},\n",
    "    \"DEN\": {\"SFO\", \"LAX\", \"MCI\", \"DFW\", \"SEA\", \"ATL\"},\n",
    "    \"SEA\": {\"SFO\", \"DEN\", \"ORD\", \"LGA\"},\n",
    "    \"MCI\": {\"DEN\", \"LAX\", \"DFW\", \"ATL\", \"ORD\", \"LGA\"},\n",
    "    \"ORD\": {\"SEA\", \"MCI\", \"DFW\", \"ATL\", \"DCA\", \"LGA\"},\n",
    "    \"DCA\": {\"ORD\", \"ATL\", \"MIA\", \"LGA\"},\n",
    "    \"LGA\": {\"SEA\", \"MCI\", \"ORD\", \"DCA\", \"MIA\"},\n",
    "    \"SFO\": {\"SEA\", \"DEN\", \"LAX\"},\n",
    "    \"CLT\": {\"BNA\", \"CHA\"},\n",
    "    \"BNA\": {\"CLT\", \"CHA\"},\n",
    "    \"CHA\": {\"CLT\", \"BNA\"}\n",
    "    }\n",
    "    print(find_path(routes, \"LAX\", \"DCA\"))\n",
    "    print(find_path(routes, \"MIA\", \"SFO\"))\n",
    "    print(find_path(routes, \"ATL\", \"MIA\"))\n",
    "    print(find_path(routes, \"LGA\", \"LGA\"))\n",
    "    print(find_path(routes, \"CLT\", \"BNA\"))\n",
    "    print(find_path(routes, \"BNA\", \"ATL\"))\n",
    "if __name__ == \"__main__\":\n",
    "    main()"
   ]
  },
  {
   "cell_type": "markdown",
   "metadata": {},
   "source": [
    "## Sử dụng DFS"
   ]
  },
  {
   "cell_type": "code",
   "execution_count": 18,
   "metadata": {},
   "outputs": [
    {
     "data": {
      "text/plain": [
       "True"
      ]
     },
     "execution_count": 18,
     "metadata": {},
     "output_type": "execute_result"
    }
   ],
   "source": [
    "s=[]\n",
    "len(s)<=0"
   ]
  },
  {
   "cell_type": "code",
   "execution_count": 19,
   "metadata": {},
   "outputs": [],
   "source": [
    "s.append(34)"
   ]
  },
  {
   "cell_type": "code",
   "execution_count": 20,
   "metadata": {},
   "outputs": [
    {
     "data": {
      "text/plain": [
       "[10, 20, 30]"
      ]
     },
     "execution_count": 20,
     "metadata": {},
     "output_type": "execute_result"
    }
   ],
   "source": [
    "s.append(\"Hello\")\n",
    "s.append(12)\n",
    "s.append([10, 20, 30])\n",
    "s.pop()"
   ]
  },
  {
   "cell_type": "code",
   "execution_count": 21,
   "metadata": {},
   "outputs": [
    {
     "data": {
      "text/plain": [
       "12"
      ]
     },
     "execution_count": 21,
     "metadata": {},
     "output_type": "execute_result"
    }
   ],
   "source": [
    "s.pop()"
   ]
  },
  {
   "cell_type": "code",
   "execution_count": 22,
   "metadata": {},
   "outputs": [
    {
     "data": {
      "text/plain": [
       "'Hello'"
      ]
     },
     "execution_count": 22,
     "metadata": {},
     "output_type": "execute_result"
    }
   ],
   "source": [
    "s.pop()"
   ]
  },
  {
   "cell_type": "code",
   "execution_count": 23,
   "metadata": {},
   "outputs": [
    {
     "data": {
      "text/plain": [
       "34"
      ]
     },
     "execution_count": 23,
     "metadata": {},
     "output_type": "execute_result"
    }
   ],
   "source": [
    "s.pop()"
   ]
  },
  {
   "cell_type": "code",
   "execution_count": 24,
   "metadata": {},
   "outputs": [
    {
     "data": {
      "text/plain": [
       "0"
      ]
     },
     "execution_count": 24,
     "metadata": {},
     "output_type": "execute_result"
    }
   ],
   "source": [
    "len(s)"
   ]
  },
  {
   "cell_type": "markdown",
   "metadata": {},
   "source": [
    "<img align=\"left\" width=\"600\" height=\"600\" src=\"images/DFS_routes.jpg\">"
   ]
  },
  {
   "cell_type": "code",
   "execution_count": 25,
   "metadata": {},
   "outputs": [
    {
     "name": "stdout",
     "output_type": "stream",
     "text": [
      "['LAX', 'MCI', 'LGA', 'DCA']\n",
      "['MIA', 'DFW', 'LAX', 'SFO']\n",
      "['ATL', 'MIA']\n",
      "['LGA']\n",
      "['CLT', 'BNA']\n",
      "[]\n"
     ]
    },
    {
     "ename": "TypeError",
     "evalue": "argument of type 'NoneType' is not iterable",
     "output_type": "error",
     "traceback": [
      "\u001b[1;31m----------------------------------------------------------------\u001b[0m",
      "\u001b[1;31mTypeError\u001b[0m                      Traceback (most recent call last)",
      "\u001b[1;32m<ipython-input-25-f389aa349774>\u001b[0m in \u001b[0;36m<module>\u001b[1;34m()\u001b[0m\n\u001b[0;32m    205\u001b[0m     \u001b[0mprint\u001b[0m\u001b[1;33m(\u001b[0m\u001b[1;34m\"Connected: \"\u001b[0m\u001b[1;33m,\u001b[0m \u001b[0mis_connected\u001b[0m\u001b[1;33m(\u001b[0m\u001b[0mr2\u001b[0m\u001b[1;33m)\u001b[0m\u001b[1;33m,\u001b[0m \u001b[0mis_connected2\u001b[0m\u001b[1;33m(\u001b[0m\u001b[0mr2\u001b[0m\u001b[1;33m)\u001b[0m\u001b[1;33m)\u001b[0m\u001b[1;33m\u001b[0m\u001b[0m\n\u001b[0;32m    206\u001b[0m \u001b[1;32mif\u001b[0m \u001b[0m__name__\u001b[0m \u001b[1;33m==\u001b[0m \u001b[1;34m\"__main__\"\u001b[0m\u001b[1;33m:\u001b[0m\u001b[1;33m\u001b[0m\u001b[0m\n\u001b[1;32m--> 207\u001b[1;33m     \u001b[0mmain\u001b[0m\u001b[1;33m(\u001b[0m\u001b[1;33m)\u001b[0m\u001b[1;33m\u001b[0m\u001b[0m\n\u001b[0m",
      "\u001b[1;32m<ipython-input-25-f389aa349774>\u001b[0m in \u001b[0;36mmain\u001b[1;34m()\u001b[0m\n\u001b[0;32m    201\u001b[0m     \u001b[0mprint\u001b[0m\u001b[1;33m(\u001b[0m\u001b[0mfind_path\u001b[0m\u001b[1;33m(\u001b[0m\u001b[0mroutes\u001b[0m\u001b[1;33m,\u001b[0m \u001b[1;34m\"BNA\"\u001b[0m\u001b[1;33m,\u001b[0m \u001b[1;34m\"ATL\"\u001b[0m\u001b[1;33m)\u001b[0m\u001b[1;33m)\u001b[0m\u001b[1;33m\u001b[0m\u001b[0m\n\u001b[0;32m    202\u001b[0m     \u001b[1;31m# Check connectivity\u001b[0m\u001b[1;33m\u001b[0m\u001b[1;33m\u001b[0m\u001b[0m\n\u001b[1;32m--> 203\u001b[1;33m     \u001b[0mprint\u001b[0m\u001b[1;33m(\u001b[0m\u001b[1;34m\"Connected: \"\u001b[0m\u001b[1;33m,\u001b[0m \u001b[0mis_connected\u001b[0m\u001b[1;33m(\u001b[0m\u001b[0mroutes\u001b[0m\u001b[1;33m)\u001b[0m\u001b[1;33m,\u001b[0m \u001b[0mis_connected2\u001b[0m\u001b[1;33m(\u001b[0m\u001b[0mroutes\u001b[0m\u001b[1;33m)\u001b[0m\u001b[1;33m)\u001b[0m\u001b[1;33m\u001b[0m\u001b[0m\n\u001b[0m\u001b[0;32m    204\u001b[0m     \u001b[0mprint\u001b[0m\u001b[1;33m(\u001b[0m\u001b[1;34m\"Connected: \"\u001b[0m\u001b[1;33m,\u001b[0m \u001b[0mis_connected\u001b[0m\u001b[1;33m(\u001b[0m\u001b[0mr1\u001b[0m\u001b[1;33m)\u001b[0m\u001b[1;33m,\u001b[0m \u001b[0mis_connected2\u001b[0m\u001b[1;33m(\u001b[0m\u001b[0mr1\u001b[0m\u001b[1;33m)\u001b[0m\u001b[1;33m)\u001b[0m\u001b[1;33m\u001b[0m\u001b[0m\n\u001b[0;32m    205\u001b[0m     \u001b[0mprint\u001b[0m\u001b[1;33m(\u001b[0m\u001b[1;34m\"Connected: \"\u001b[0m\u001b[1;33m,\u001b[0m \u001b[0mis_connected\u001b[0m\u001b[1;33m(\u001b[0m\u001b[0mr2\u001b[0m\u001b[1;33m)\u001b[0m\u001b[1;33m,\u001b[0m \u001b[0mis_connected2\u001b[0m\u001b[1;33m(\u001b[0m\u001b[0mr2\u001b[0m\u001b[1;33m)\u001b[0m\u001b[1;33m)\u001b[0m\u001b[1;33m\u001b[0m\u001b[0m\n",
      "\u001b[1;32m<ipython-input-25-f389aa349774>\u001b[0m in \u001b[0;36mis_connected\u001b[1;34m(G)\u001b[0m\n\u001b[0;32m    146\u001b[0m     \u001b[1;31m#predecessor = bfs(G)\u001b[0m\u001b[1;33m\u001b[0m\u001b[1;33m\u001b[0m\u001b[0m\n\u001b[0;32m    147\u001b[0m     \u001b[1;32mfor\u001b[0m \u001b[0mvertex\u001b[0m \u001b[1;32min\u001b[0m \u001b[0mG\u001b[0m\u001b[1;33m:\u001b[0m\u001b[1;33m\u001b[0m\u001b[0m\n\u001b[1;32m--> 148\u001b[1;33m         \u001b[1;32mif\u001b[0m \u001b[0mvertex\u001b[0m \u001b[1;32mnot\u001b[0m \u001b[1;32min\u001b[0m \u001b[0mpredecessor\u001b[0m\u001b[1;33m:\u001b[0m\u001b[1;33m\u001b[0m\u001b[0m\n\u001b[0m\u001b[0;32m    149\u001b[0m             \u001b[1;32mreturn\u001b[0m \u001b[1;32mFalse\u001b[0m\u001b[1;33m\u001b[0m\u001b[0m\n\u001b[0;32m    150\u001b[0m     \u001b[1;32mreturn\u001b[0m \u001b[1;32mTrue\u001b[0m\u001b[1;33m\u001b[0m\u001b[0m\n",
      "\u001b[1;31mTypeError\u001b[0m: argument of type 'NoneType' is not iterable"
     ]
    }
   ],
   "source": [
    "def dfs(graph, start_vertex=None, end_vertex=None):\n",
    "    \"\"\" Performs a depth-first traversal of graph originating\n",
    "    at start_vertex and ending when the traversal encounters\n",
    "    end_vertex. If the end_vertex parameter is omitted, the\n",
    "    DFS continues to all vertices in the graph. If the\n",
    "    start_vertex parameter is omitted, the DFS begins with an\n",
    "    arbitrary vertex in the graph. Builds and returns a set of\n",
    "    vertices discovered during the depth-first traversal. \"\"\"\n",
    "    # A set of vertices encountered on a depth-first\n",
    "    # traversal from start_vertex to end_vertex.\n",
    "    # This set initially is empty, and we will add vertices as\n",
    "    # we \"visit\" them during the depth-first traversal.\n",
    "    visited = set()\n",
    "    if graph:\n",
    "        if not start_vertex: # Caller provided a starting vertex\n",
    "            start_vertex = list(graph.keys())[0] # Grab an arbitrary vertex from the graph\n",
    "    #print(\"Start vertex:\", start_vertex)\n",
    "    # Make an empty stack and insert the starting vertex\n",
    "    # The algorithm will extract and visit vertices from this stack\n",
    "        s = []\n",
    "        s.append(start_vertex)\n",
    "    # Keep searching while the stack holds vertices yet to visit\n",
    "    # and we have yet to visit our destination vertex\n",
    "        while len(s) > 0 and end_vertex not in visited:\n",
    "            vertex = s.pop() # Get vertex on the top of the stack\n",
    "            if vertex not in visited:\n",
    "                visited.add(vertex) # Visit the vertex\n",
    "                for adjacent_vertex in graph[vertex]: # Consider all adjacent vertices\n",
    "                    # Has the predecessor of this vertex been established?\n",
    "                    if adjacent_vertex not in visited:\n",
    "                        s.append(adjacent_vertex) # Push the vertex\n",
    "        # At this point we exited the while loop because either the stack was\n",
    "        # empty or the destination vertex now is in the visited set (or both).\n",
    "        # If the stack is empty but the destination vertex is not in\n",
    "        # the visited set, the destination vertex is unreachable from the\n",
    "        # starting vertex. If the stack is not empty but the destination vertex\n",
    "        # is in the visited set, the path from the starting vertex to\n",
    "        # the destination vertex exists and excludes one or more vertices in\n",
    "        # the graph. If the stack is empty and the destination vertex is in the\n",
    "        # visited set, the shortest path from the starting vertex to the\n",
    "        # destination vertex includes all vertices reachable from the starting\n",
    "        # vertex.\n",
    "    return visited\n",
    "def dfs2(graph, start_vertex=None, end_vertex=None):\n",
    "    \"\"\" Performs a depth-first traversal of graph originating\n",
    "    at start_vertex and ending when the traversal encounters\n",
    "    end_vertex. If the end_vertex parameter is omitted, the\n",
    "    DFS continues to all vertices in the graph. If the\n",
    "    start_vertex parameter is omitted, the DFS begins with an\n",
    "    arbitrary vertex in the graph. Builds and returns a set of\n",
    "    vertices discovered during the depth-first traversal. \"\"\"\n",
    "    # A set of vertices encountered on a depth-first\n",
    "    # traversal from start_vertex to end_vertex.\n",
    "    # This set initially is empty, and we will add vertices as\n",
    "    # we \"visit\" them during the depth-first traversal.\n",
    "    visited = set()\n",
    "def dfs3(start_vertex, end_vertex):\n",
    "    visited.add(start_vertex)\n",
    "    for adjacent_vertex in graph[start_vertex]:\n",
    "        if adjacent_vertex not in visited and end_vertex not in visited:\n",
    "            dfs3(adjacent_vertex, end_vertex)\n",
    "    if graph:\n",
    "        if not start_vertex: # Caller provided a starting vertex?\n",
    "            start_vertex = list(graph.keys())[0] # Grab an arbitrary vertex from the graph\n",
    "        dfs3(start_vertex, end_vertex) # Build the visited set\n",
    "    return visited\n",
    "def bfs(graph, start_vertex=None, end_vertex=None):\n",
    "    \"\"\" Performs a breadth-first traversal of graph originating\n",
    "    at start_vertex and ending when the traversal encounters\n",
    "    end_vertex. If the end_vertex parameter is omitted, the\n",
    "    BFS continues to all vertices in the graph. If the\n",
    "    start_vertex parameter is omitted, the BFS begins with an\n",
    "    arbitrary vertex in the graph.\n",
    "    Builds and returns a dictionary with\n",
    "    vertices mapped to their immediate predecessors on the\n",
    "    breadth-first traversal. \"\"\"\n",
    "    # A dictionary of vertex predecessors encountered on a breadth-first\n",
    "    # traversal from start_vertex to end_vertex.\n",
    "    # The dictionary key is a vertex, and the associated value is\n",
    "    # the vertex that comes immediately before the key on a\n",
    "    # breadth-first traversal.\n",
    "    # This dictionary initially is empty, and we will add vertices as\n",
    "    # we \"visit\" them during the breadth-first traversal.\n",
    "    predecessor = {}\n",
    "    if graph:\n",
    "        if not start_vertex: # Caller provided a starting vertex?\n",
    "            start_vertex = list(graph.keys())[0] # Grab an arbitrary vertex from the graph\n",
    "            #print(\"Start vertex:\", start_vertex)\n",
    "            # Make an empty queue and insert the starting vertex\n",
    "            # The algorithm will extract and visit vertices from this queue\n",
    "        q = Queue()\n",
    "        q.put(start_vertex)\n",
    "            # Keep searching while the queue holds vertices yet to visit\n",
    "            # and we have yet to visit our destination vertex\n",
    "        while not q.empty() and end_vertex not in predecessor:\n",
    "            vertex = q.get() # Get vertex on the front of the queue\n",
    "            for adjacent_vertex in graph[vertex]: # Consider all adjacent vertices\n",
    "                    # Has the predecessor of this vertex been established?\n",
    "                if adjacent_vertex not in predecessor:\n",
    "                    q.put(adjacent_vertex) # Enqueue the vertex\n",
    "                    # Register which vertex should come immediately before this\n",
    "                    # one on a shortest path (this \"visits\" the vertex)\n",
    "                    #print(adjacent_vertex, \"<--\", vertex)\n",
    "                    predecessor[adjacent_vertex] = vertex\n",
    "                    # At this point we exited the while loop because either the queue was\n",
    "                    # empty or the destination vertex now is in the predecessor dictionary\n",
    "                    # (or both). If the queue is empty but the destination vertex is not in\n",
    "                                        # the predecessor dictionary, the destination vertex is unreachable from the\n",
    "                    # starting vertex. If the queue is not empty but the destination vertex\n",
    "                    # is in the predecessor dictionary, the path from the starting vertex to\n",
    "                    # the destination vertex exists and excludes one or more vertices in\n",
    "                    # the graph. If the queue is empty and the destination vertex is in the\n",
    "                    # predecessor dictionary, the shortest path from the starting vertex to the\n",
    "                    # destination vertex includes all vertices reachable from the starting\n",
    "                    # vertex.\n",
    "    return predecessor\n",
    "def find_path(graph, start_vertex, end_vertex):\n",
    "    \"\"\" Builds a list of vertices in order along the shortest path\n",
    "    from a starting vertex to an ending vertex in a graph.\n",
    "    graph: The graph to traverse.\n",
    "    start_vertex: The starting vertex.\n",
    "    end_vertex: The vertex to locate. \"\"\"\n",
    "    # Compute predecessor of each vertex on a shortest path\n",
    "    # Call the bfs function to build the predecessor dictionary\n",
    "    predecessor = bfs(graph, start_vertex, end_vertex)\n",
    "    path = [] # Path initially empty\n",
    "    # Check that we were able to reach the destination vertex\n",
    "    if end_vertex in predecessor:\n",
    "    # Start at the end and work backwards\n",
    "        path = [end_vertex]\n",
    "        vertex = end_vertex\n",
    "        # Keep going until we get to the beginning of the path\n",
    "        while vertex != start_vertex:\n",
    "        # Get vertex that comes immediately before on a shortest path\n",
    "            vertex = predecessor[vertex]\n",
    "            # Prepend the predecessor vertex to the front of the path list\n",
    "            path = [vertex] + path\n",
    "    return path\n",
    "def is_connected(G):\n",
    "    \"\"\" Returns True if G is a dictionary representing a connected graph;\n",
    "    otherwise, returns False. A graph containing no vertices\n",
    "    (and, therefore, no edges) is considered connected. \"\"\"\n",
    "    # Use bfs to compute the predecessor of each vertex on a\n",
    "    # shortest path from an arbitrary vertex within G.\n",
    "    predecessor = dfs2(G)\n",
    "    #predecessor = bfs(G)\n",
    "    for vertex in G:\n",
    "        if vertex not in predecessor:\n",
    "            return False\n",
    "    return True\n",
    "def is_connected2(G):\n",
    "    \"\"\" G is a dictionary that represents a graph. \"\"\"\n",
    "    for v in G: # Examine each dictionary key (vertex)\n",
    "        for w in G: # Examine each dictionary key (vertex)\n",
    "            if v != w and w not in bfs(G, v, w):\n",
    "                return False # Vertex w not reachable from vertex v\n",
    "    return True # All vertices in G are reachable from any vertex in G\n",
    "def main():\n",
    "    \"\"\" Tests the find_path and is_connected functions. \"\"\"\n",
    "    # Dictionary representing the graph of airline routes\n",
    "    routes = {\n",
    "    \"ATL\": {\"MIA\", \"DCA\", \"ORD\", \"MCI\", \"DFW\", \"DEN\"},\n",
    "    \"MIA\": {\"LGA\", \"DCA\", \"ATL\", \"DFW\"},\n",
    "    \"DFW\": {\"LAX\", \"DEN\", \"MCI\", \"ORD\", \"ATL\", \"MIA\"},\n",
    "    \"LAX\": {\"SFO\", \"DEN\", \"MCI\", \"DFW\"},\n",
    "    \"DEN\": {\"SFO\", \"LAX\", \"MCI\", \"DFW\", \"SEA\", \"ATL\"},\n",
    "    \"SEA\": {\"SFO\", \"DEN\", \"ORD\", \"LGA\"},\n",
    "    \"MCI\": {\"DEN\", \"LAX\", \"DFW\", \"ATL\", \"ORD\", \"LGA\"},\n",
    "    \"ORD\": {\"SEA\", \"MCI\", \"DFW\", \"ATL\", \"DCA\", \"LGA\"},\n",
    "    \"DCA\": {\"ORD\", \"ATL\", \"MIA\", \"LGA\"},\n",
    "    \"LGA\": {\"SEA\", \"MCI\", \"ORD\", \"DCA\", \"MIA\"},\n",
    "    \"SFO\": {\"SEA\", \"DEN\", \"LAX\"},\n",
    "    \"CLT\": {\"BNA\", \"CHA\"},\n",
    "    \"BNA\": {\"CLT\", \"CHA\"},\n",
    "    \"CHA\": {\"CLT\", \"BNA\"}\n",
    "    }\n",
    "    r1 = {\n",
    "    \"ATL\": {\"MIA\", \"DCA\", \"ORD\", \"MCI\", \"DFW\", \"DEN\"},\n",
    "    \"MIA\": {\"LGA\", \"DCA\", \"ATL\", \"DFW\"},\n",
    "    \"DFW\": {\"LAX\", \"DEN\", \"MCI\", \"ORD\", \"ATL\", \"MIA\"},\n",
    "    \"LAX\": {\"SFO\", \"DEN\", \"MCI\", \"DFW\"},\n",
    "    \"DEN\": {\"SFO\", \"LAX\", \"MCI\", \"DFW\", \"SEA\", \"ATL\"},\n",
    "    \"SEA\": {\"SFO\", \"DEN\", \"ORD\", \"LGA\"},\n",
    "    \"MCI\": {\"DEN\", \"LAX\", \"DFW\", \"ATL\", \"ORD\", \"LGA\"},\n",
    "    \"ORD\": {\"SEA\", \"MCI\", \"DFW\", \"ATL\", \"DCA\", \"LGA\"},\n",
    "    \"DCA\": {\"ORD\", \"ATL\", \"MIA\", \"LGA\"},\n",
    "    \"LGA\": {\"SEA\", \"MCI\", \"ORD\", \"DCA\", \"MIA\"},\n",
    "    \"SFO\": {\"SEA\", \"DEN\", \"LAX\"}\n",
    "    }\n",
    "    r2 = {\n",
    "    \"CLT\": {\"BNA\", \"CHA\"},\n",
    "    \"BNA\": {\"CLT\", \"CHA\"},\n",
    "    \"CHA\": {\"CLT\", \"BNA\"}\n",
    "    }\n",
    "    # Find shortest paths, as before\n",
    "    print(find_path(routes, \"LAX\", \"DCA\"))\n",
    "    print(find_path(routes, \"MIA\", \"SFO\"))\n",
    "    print(find_path(routes, \"ATL\", \"MIA\"))\n",
    "    print(find_path(routes, \"LGA\", \"LGA\"))\n",
    "    print(find_path(routes, \"CLT\", \"BNA\"))\n",
    "    print(find_path(routes, \"BNA\", \"ATL\"))\n",
    "    # Check connectivity\n",
    "    print(\"Connected: \", is_connected(routes), is_connected2(routes))\n",
    "    print(\"Connected: \", is_connected(r1), is_connected2(r1))\n",
    "    print(\"Connected: \", is_connected(r2), is_connected2(r2))\n",
    "if __name__ == \"__main__\":\n",
    "    main()"
   ]
  },
  {
   "cell_type": "code",
   "execution_count": null,
   "metadata": {},
   "outputs": [],
   "source": []
  }
 ],
 "metadata": {
  "kernelspec": {
   "display_name": "Python 3",
   "language": "python",
   "name": "python3"
  },
  "language_info": {
   "codemirror_mode": {
    "name": "ipython",
    "version": 3
   },
   "file_extension": ".py",
   "mimetype": "text/x-python",
   "name": "python",
   "nbconvert_exporter": "python",
   "pygments_lexer": "ipython3",
   "version": "3.7.0"
  }
 },
 "nbformat": 4,
 "nbformat_minor": 2
}

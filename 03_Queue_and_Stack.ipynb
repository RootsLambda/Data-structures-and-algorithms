{
 "cells": [
  {
   "cell_type": "markdown",
   "metadata": {},
   "source": [
    "# 1. Ngăn xếp stack\n",
    "\n",
    "Ngăn xếp là một cấu trúc dữ liệu tuyến tính lưu trữ các mục theo cách thức Last In Frist Out (LIFO) vào sau ra trước. Trong ngăn xếp, các tác vụ thêm vào, loại bỏ chỉ thực hiện ở các đầu của danh sách.\n",
    "\n",
    "<img align=\"left\" width=\"400\" height=\"400\" src=\"images/Stack.png\">"
   ]
  },
  {
   "cell_type": "markdown",
   "metadata": {},
   "source": [
    "## Cấu trúc dữ liệu:\n",
    "+ Data: Dữ liệu\n",
    "+ Stack pointer: Con trỏ của ngăn xếp\n",
    "+ Size: Số phần tử tối đa của ngăn xếp\n",
    "+ Count: Số phần tử hiện tại của chồng"
   ]
  },
  {
   "cell_type": "markdown",
   "metadata": {},
   "source": [
    "## Các thao tác với ngăn xếp stack:\n",
    "\n",
    "+ Khởi tạo ngăn xếp rỗng **(empty)** \n",
    "+ Lấy phần tử đầu của ngăn xếp **(top)**\n",
    "+ Chèn phần tử vào ngăn xếp **(push)**\n",
    "+ Xóa phần tử trên cùng ngăn xếp **(pop)**"
   ]
  },
  {
   "cell_type": "markdown",
   "metadata": {},
   "source": [
    "## - Push() và top()"
   ]
  },
  {
   "cell_type": "markdown",
   "metadata": {},
   "source": [
    "<img align=\"left\" width=\"400\" height=\"400\" src=\"images/Push_stack.jpg\">"
   ]
  },
  {
   "cell_type": "code",
   "execution_count": 1,
   "metadata": {},
   "outputs": [],
   "source": [
    "class Stack:\n",
    "    def __init__(self):\n",
    "        self.stack = []\n",
    " \n",
    "    def push(self, data):\n",
    "        if data not in self.stack:\n",
    "            self.stack.append(data)\n",
    "            return True\n",
    "        else:\n",
    "            return False\n",
    "# Use peek to look at the top of the stack\n",
    "    def peek_top(self):     \n",
    "        return self.stack[-1]\n",
    "\n",
    "St= Stack()\n",
    "St.push(\"Mon\")\n",
    "St.push(\"Tue\")\n",
    "print(St.peek_top())\n",
    "St.push(\"Wed\")\n",
    "St.push(\"Thu\")\n",
    "print(St.peek_top())"
   ]
  },
  {
   "cell_type": "markdown",
   "metadata": {},
   "source": [
    "**Nếu Count stack bằng Size thì sẽ gây tràn không thể thêm được nữa**"
   ]
  },
  {
   "cell_type": "markdown",
   "metadata": {},
   "source": [
    "<img align=\"left\" width=\"400\" height=\"400\" src=\"images/Overflow_stack.jpg\">"
   ]
  },
  {
   "cell_type": "markdown",
   "metadata": {},
   "source": [
    "## - Pop phần tử của stack"
   ]
  },
  {
   "cell_type": "markdown",
   "metadata": {},
   "source": [
    "<img align=\"left\" width=\"400\" height=\"400\" src=\"images/Pop_stack.jpg\">"
   ]
  },
  {
   "cell_type": "code",
   "execution_count": 2,
   "metadata": {},
   "outputs": [],
   "source": [
    "class Stack:\n",
    "    def __init__(self):\n",
    "        self.stack = []\n",
    " \n",
    "    def add(self, data):\n",
    "        if data not in self.stack:\n",
    "            self.stack.append(data)\n",
    "            return True\n",
    "        else:\n",
    "            return False\n",
    "    def remove(self):\n",
    "        if len(self.stack) <= 0:\n",
    "            return (\"No element in the Stack\")\n",
    "        else:\n",
    "            return self.stack.pop()\n",
    "St = Stack()\n",
    "St.add(\"Mon\")\n",
    "St.add(\"Tue\")\n",
    "St.add(\"Wed\")\n",
    "St.add(\"Thu\")\n",
    "print(St.remove())\n",
    "print(St.remove())"
   ]
  },
  {
   "cell_type": "markdown",
   "metadata": {},
   "source": [
    "**Nếu Count của stack bằng rỗng thì sẽ xảy ra hiện tượng underflow stack**\n",
    "\n",
    "<img align=\"left\" width=\"400\" height=\"400\" src=\"images/Underflow_stack.jpg\">"
   ]
  },
  {
   "cell_type": "markdown",
   "metadata": {},
   "source": [
    "# 2. Hàng đợi queue\n",
    "\n",
    "Cũng như một ngăn xếp, hàng đợi là một cấu trúc dữ liệu tuyến tính lưu trữ First In Frist out (FIFO) vào trước ra trước. \n",
    "\n",
    "Một ví dụ điển hình về hàng đợi là người tiêu dùng đi mua sắm xếp hàng ở các siêu thị, người tiêu dùng đến trước được phục vụ trước.\n",
    "\n",
    "<img align=\"left\" width=\"500\" height=\"500\" src=\"images\\Queue.png\">\n"
   ]
  },
  {
   "cell_type": "markdown",
   "metadata": {},
   "source": [
    "## Cấu trúc dữ liệu:\n",
    "+ Data: Dữ liệu\n",
    "+ Front: Con trỏ đầu lấy ra\n",
    "+ Rear: Con trỏ đầu thêm vào\n",
    "+ Size: Số lượng tối đa của hàng đợi\n",
    "+ Count: Số lượng phần tử hiện tại của hàng đợi"
   ]
  },
  {
   "cell_type": "markdown",
   "metadata": {},
   "source": [
    "## Các tác vụ của hàng đợi:\n",
    "\n",
    "+ Khởi tạo hàng đợi rỗng **(empty)**\n",
    "+ Thêm một khóa vào hàng đợi **(enqueue)**\n",
    "+ Loại bỏ khóa của hàng đợi **(dequeue)**\n",
    "+ Xem phần tử ở đầu **(con trỏ Front)**\n",
    "+ Xem phần tử ở đầu **(con trỏ Rear)**"
   ]
  },
  {
   "cell_type": "markdown",
   "metadata": {},
   "source": [
    "## Thêm khóa vào hàng đợi"
   ]
  },
  {
   "cell_type": "markdown",
   "metadata": {},
   "source": [
    "<img align=\"left\" width=\"500\" height=\"500\" src=\"images\\enqueue.jpg\">"
   ]
  },
  {
   "cell_type": "code",
   "execution_count": 3,
   "metadata": {},
   "outputs": [],
   "source": [
    "class Queue:\n",
    "    def __init__(self):\n",
    "        self.queue = []\n",
    "\n",
    "    def addtoq(self,data):\n",
    "        if data not in self.queue:\n",
    "            self.queue.insert(0,data)\n",
    "            return True\n",
    "        return False\n",
    "    def size(self):\n",
    "        return len(self.queue)\n",
    "if __name__=='__main__':\n",
    "    Q = Queue()\n",
    "    Q.addtoq(\"Mon\")\n",
    "    Q.addtoq(\"Tue\")\n",
    "    Q.addtoq(\"Wed\")\n",
    "    print(Q.size())"
   ]
  },
  {
   "cell_type": "markdown",
   "metadata": {},
   "source": [
    "## Loại bỏ các thành phần"
   ]
  },
  {
   "cell_type": "markdown",
   "metadata": {},
   "source": [
    "<img align=\"left\" width=\"500\" height=\"500\" src=\"images\\dequeue.jpg\">"
   ]
  },
  {
   "cell_type": "code",
   "execution_count": 4,
   "metadata": {},
   "outputs": [],
   "source": [
    "class Queue:\n",
    "    def __init__(self):\n",
    "        self.queue = list()\n",
    "\n",
    "    def addtoq(self,data):\n",
    "        if data not in self.queue:\n",
    "            self.queue.insert(0,data)\n",
    "            return True\n",
    "        return False\n",
    "    def removefromq(self):\n",
    "        if len(self.queue)>0:\n",
    "            return self.queue.pop()\n",
    "        return (\"No elements in Queue!\")\n",
    "if __name__==\"__main__\":\n",
    "    Q = Queue()\n",
    "    Q.addtoq(\"Mon\")\n",
    "    Q.addtoq(\"Tue\")\n",
    "    Q.addtoq(\"Wed\")\n",
    "    print(Q.removefromq())\n",
    "    print(Q.removefromq())"
   ]
  },
  {
   "cell_type": "markdown",
   "metadata": {},
   "source": [
    "## Hàng đợi hai đầu dequeue\n",
    "Cũng giống như hàng đợi nhưng ta có thể thêm hoặc xóa ở hai đầu.\n",
    "### Các thao tác trên dequeue\n",
    "+ Khởi tạo hàng đợi hai đầu\n",
    "+ Thêm phần tử bên trái hàng đợi\n",
    "+ Thêm phần tử bên phải hàng đợi\n",
    "+ Xóa phần tử bên trái hàng đợi\n",
    "+ Xóa phần tử bên phải hàng đợi\n",
    "+ Xem phần tử ở đầu **(con trỏ Front)**\n",
    "+ Xem phần tử ở đầu **(con trỏ Rear)**"
   ]
  },
  {
   "cell_type": "code",
   "execution_count": 5,
   "metadata": {},
   "outputs": [],
   "source": [
    "import collections\n",
    "\n",
    "DoubleEnded = collections.deque([\"Mon\",\"Tue\",\"Wed\"])\n",
    "DoubleEnded.append(\"Thu\")\n",
    "\n",
    "print (\"Thêm bên trái \")\n",
    "print (DoubleEnded)\n",
    "\n",
    "DoubleEnded.appendleft(\"Sun\")\n",
    "print (\"Thêm bên trái và bên phải\")\n",
    "print (DoubleEnded)\n",
    "\n",
    "DoubleEnded.pop()\n",
    "print (\"Xóa bên phải\")\n",
    "print (DoubleEnded)\n",
    "\n",
    "DoubleEnded.popleft()\n",
    "print (\"Xóa bên trái\")\n",
    "print (DoubleEnded)"
   ]
  },
  {
   "cell_type": "markdown",
   "metadata": {},
   "source": [
    "# 3. Ứng dụng của ngăn xếp và hàng đợi"
   ]
  },
  {
   "cell_type": "markdown",
   "metadata": {},
   "source": [
    "+ Ngăn xếp (Stack):\n",
    "    + Đảo ngược danh sách\n",
    "    + Thay thế các bài toán sử dụng đệ quy bằng cách sử dụng ngăn xếp\n",
    "    + Các thuật toán quay lui\n",
    "+ Hàng đợi (Queue):\n",
    "    + Phân loại dữ liệu\n",
    "    + Thuật toán xắp xếp Radix\n",
    "    + Các dữ liệu dạng đa thức"
   ]
  },
  {
   "cell_type": "code",
   "execution_count": null,
   "metadata": {},
   "outputs": [],
   "source": []
  }
 ],
 "metadata": {
  "kernelspec": {
   "display_name": "Python 3",
   "language": "python",
   "name": "python3"
  },
  "language_info": {
   "codemirror_mode": {
    "name": "ipython",
    "version": 3
   },
   "file_extension": ".py",
   "mimetype": "text/x-python",
   "name": "python",
   "nbconvert_exporter": "python",
   "pygments_lexer": "ipython3",
   "version": "3.7.0"
  }
 },
 "nbformat": 4,
 "nbformat_minor": 2
}

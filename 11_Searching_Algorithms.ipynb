{
 "cells": [
  {
   "cell_type": "markdown",
   "metadata": {},
   "source": [
    "# 1.Giới thiệu"
   ]
  },
  {
   "cell_type": "markdown",
   "metadata": {},
   "source": [
    "Tìm kiếm là một nhu cầu rất cơ bản khi bạn lưu trữ dữ liệu trong các cấu trúc dữ liệu khác nhau. Cách tiếp cận đơn giản nhất là xem xét mọi phần tử trong cấu trúc dữ liệu và khớp nó với giá trị bạn đang tìm kiếm, đây được gọi là tìm kiếm tuyến tính. Nó không hiệu quả do có độ phức tạp lên tới O(n) và hiếm khi được sử dụng, nhưng việc tạo một chương trình cho nó sẽ đưa ra ý tưởng về cách chúng ta có thể triển khai một số thuật toán tìm kiếm nâng cao."
   ]
  },
  {
   "cell_type": "markdown",
   "metadata": {},
   "source": [
    "# 2. Các thuật toán tìm kiếm phổ biến"
   ]
  },
  {
   "cell_type": "markdown",
   "metadata": {},
   "source": [
    "## Linear Search"
   ]
  },
  {
   "cell_type": "code",
   "execution_count": 1,
   "metadata": {},
   "outputs": [
    {
     "name": "stdout",
     "output_type": "stream",
     "text": [
      "True\n",
      "False\n"
     ]
    }
   ],
   "source": [
    "def linear_search(array, key):\n",
    "    search_id = 0\n",
    "    results = False\n",
    "    while search_id < len(array) and results is False:\n",
    "        if array[search_id] ==key:\n",
    "            results = True\n",
    "        else:\n",
    "            search_id = search_id + 1\n",
    "    return results\n",
    "l = [64, 34, 25, 12, 22, 11, 90]\n",
    "print(linear_search(l, 12))\n",
    "print(linear_search(l, 91))"
   ]
  },
  {
   "cell_type": "markdown",
   "metadata": {},
   "source": [
    "## Interpolation Search\n",
    "Thuật toán tìm kiếm này hoạt động trên vị trí thăm dò của giá trị được yêu cầu. Để thuật toán này hoạt động bình thường, việc thu thập dữ liệu phải ở dạng được sắp xếp và phân bổ đều. Nếu mục ở giữa lớn hơn mục, thì vị trí thăm dò lại được tính trong mảng con bên phải của mục giữa. Nếu không, mục sẽ được tìm kiếm trong mảng con ở bên trái của mục giữa. Quá trình này cũng tiếp tục trên mảng con cho đến khi kích thước của mảng con giảm xuống 0."
   ]
  },
  {
   "cell_type": "code",
   "execution_count": 2,
   "metadata": {},
   "outputs": [
    {
     "name": "stdout",
     "output_type": "stream",
     "text": [
      "Found 2 at index 0\n"
     ]
    }
   ],
   "source": [
    "def intpolsearch(array,key):\n",
    "    id_start = 0\n",
    "    id_end = (len(array) - 1)\n",
    "    while id_start <= id_end and key >= array[id_start] and key <= array[id_end]:\n",
    "        # Tìm giá trị mid point\n",
    "        mid = id_start +\\\n",
    "    int(((float(id_end - id_start)/( array[id_end] - array[id_start]))* ( key - array[id_start])))\n",
    "    # So sánh giá trị mid với key\n",
    "        if array[mid] == key:\n",
    "            return \"Found \"+str(key)+\" at index \"+str(mid)\n",
    "        if array[mid] < key:\n",
    "            id_start = mid + 1\n",
    "    return \"Searched element not in the list\"\n",
    "\n",
    "l = [2, 6, 11, 19, 27, 31, 45, 121]\n",
    "print(intpolsearch(l, 2))"
   ]
  },
  {
   "cell_type": "code",
   "execution_count": null,
   "metadata": {},
   "outputs": [],
   "source": []
  }
 ],
 "metadata": {
  "kernelspec": {
   "display_name": "Python 3",
   "language": "python",
   "name": "python3"
  },
  "language_info": {
   "codemirror_mode": {
    "name": "ipython",
    "version": 3
   },
   "file_extension": ".py",
   "mimetype": "text/x-python",
   "name": "python",
   "nbconvert_exporter": "python",
   "pygments_lexer": "ipython3",
   "version": "3.7.0"
  }
 },
 "nbformat": 4,
 "nbformat_minor": 2
}

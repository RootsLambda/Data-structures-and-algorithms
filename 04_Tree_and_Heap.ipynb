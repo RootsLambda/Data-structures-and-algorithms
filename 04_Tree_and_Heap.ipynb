{
 "cells": [
  {
   "cell_type": "markdown",
   "metadata": {},
   "source": [
    "# 1. Giới thiệu\n",
    "Cây là một cấu trúc dữ liệu phi tuyến, một phần tử có nhiều phần tử kề đi sau nó, duyệt cây là duyệt các nhánh cây. Việc tìm kiếm trong cây là tìm kiếm trên các nhánh của cây sẽ tốn ít thời gian hơn so với danh sách liên kết.\n",
    "\n",
    "**Các thành phần của một cây:**\n",
    "+ Một node sẽ được gọi là root(gốc)\n",
    "+ Các nút còn lại được chia ra thành các nhóm, có nguồn gốc từ parent node\n",
    "+ Mỗi nút có thể có nhiều node child\n",
    "+ Những nút mà không có node child được gọi là leaf node.\n",
    "\n",
    "Hình bên dưới mô tả một tree\n",
    "\n",
    "<img align=\"left\" width=\"400\" height=\"400\" src=\"images/Tree.png\">"
   ]
  },
  {
   "cell_type": "markdown",
   "metadata": {},
   "source": [
    "+ **Bậc của node(degree of node):** Được định nghĩa là số cây con của node này\n",
    "\n",
    "Ví dụ: bậc của node 2 ở hình trên là bậc 2"
   ]
  },
  {
   "cell_type": "markdown",
   "metadata": {},
   "source": [
    "+ **Bậc của cây(Degree of tree):** Được định nghĩa là bậc lớn nhất của các nút của cây.\n",
    "\n",
    "Ví dụ: cây ở trên có bậc là 2 \n"
   ]
  },
  {
   "cell_type": "markdown",
   "metadata": {},
   "source": [
    "+ **Mức của node(Level of node)**\n",
    "\n",
    "    + Mức ở nút gốc = 1\n",
    "\n",
    "    + Mức của nút bất kỳ = Số cạnh của đường đi từ nút gốc đến nút này + 1"
   ]
  },
  {
   "cell_type": "markdown",
   "metadata": {},
   "source": [
    "+ **Chiều cao của cây(Height of tree):** Là số node của đường đi dài nhất từ node gốc đến node lá.\n",
    "\n",
    "Ví dụ: Hình ở trên có height = 4"
   ]
  },
  {
   "cell_type": "markdown",
   "metadata": {},
   "source": [
    "+ **Chiều sâu của node(Depth of node):** Là số cạnh của đường đi từ node gốc đến node này. Chiều sâu của node root là 0.\n",
    "\n",
    "Ví dụ: Chiều sâu của node 2 là 1"
   ]
  },
  {
   "cell_type": "markdown",
   "metadata": {},
   "source": [
    "# 2. Cây nhị phân (Binary Tree)\n",
    "\n",
    "Cây nhị phân là cây có bậc 2 hoặc là cây có ít hơn 2 nhánh.\n",
    "\n",
    "<img align=\"left\" width=\"400\" height=\"400\" src=\"images/Binary_tree.jpg\">"
   ]
  },
  {
   "cell_type": "markdown",
   "metadata": {},
   "source": [
    "## Cây nhị phân đầy đủ (full binary tree): \n",
    "\n",
    "Là cây nhị phân mà mọi nút có bậc 0 hoặc 2.\n",
    "## Cây nhị phân hoàn toàn (complete binary tree):\n",
    "\n",
    "Là cây nhị phân có chiều cao h và có số node là `2^h -1`."
   ]
  },
  {
   "cell_type": "markdown",
   "metadata": {},
   "source": [
    "<img align=\"left\" width=\"400\" height=\"400\" src=\"images/full_complete_binary_tree.bmp\">"
   ]
  },
  {
   "cell_type": "markdown",
   "metadata": {},
   "source": [
    "## Một node có các thành phần sau:\n",
    "+ **Data:** Chứa dữ liệu \n",
    "+ **Left:** Con trỏ nút con trái của nút này\n",
    "+ **Right:** Con trỏ nút con phải của nút này "
   ]
  },
  {
   "cell_type": "markdown",
   "metadata": {},
   "source": [
    "## Các thao tác với cây nhị phân:\n",
    "+ Khởi tạo cây\n",
    "+ Duyệt cây\n",
    "+ Tạo cây bằng cách chèn\n",
    "+ Tính chiều cao của cây"
   ]
  },
  {
   "cell_type": "markdown",
   "metadata": {},
   "source": [
    "### Khởi tạo cây"
   ]
  },
  {
   "cell_type": "code",
   "execution_count": 1,
   "metadata": {},
   "outputs": [
    {
     "name": "stdout",
     "output_type": "stream",
     "text": [
      "10\n"
     ]
    }
   ],
   "source": [
    "class Node:\n",
    "    def __init__(self, data):\n",
    "        self.left = None\n",
    "        self.right = None\n",
    "        self.data = data\n",
    "    def PrintTree(self):\n",
    "        print(self.data)\n",
    "if __name__==\"__main__\":\n",
    "    root = Node(10)\n",
    "    root.PrintTree()\n"
   ]
  },
  {
   "cell_type": "markdown",
   "metadata": {},
   "source": [
    "### Chèn phần tử vào cây"
   ]
  },
  {
   "cell_type": "code",
   "execution_count": 2,
   "metadata": {},
   "outputs": [
    {
     "name": "stdout",
     "output_type": "stream",
     "text": [
      "3 6 12 14 "
     ]
    }
   ],
   "source": [
    "class Node:\n",
    "    def __init__(self, data):\n",
    "        self.left = None\n",
    "        self.right = None\n",
    "        self.data = data\n",
    "\n",
    "    def insert(self, data):\n",
    "# So sánh giá trị nút mới với node cha\n",
    "        if self.data:\n",
    "            if data < self.data:\n",
    "                if self.left is None:\n",
    "                    self.left = Node(data)\n",
    "                else:\n",
    "                    self.left.insert(data)\n",
    "            elif data > self.data:\n",
    "                if self.right is None:\n",
    "                    self.right = Node(data)\n",
    "                else:\n",
    "                    self.right.insert(data)\n",
    "        else:\n",
    "            self.data = data\n",
    "    def PrintTree(self):\n",
    "        if self.left:\n",
    "            self.left.PrintTree()\n",
    "        print(self.data,end=\" \")\n",
    "        if self.right:\n",
    "            self.right.PrintTree()\n",
    "\n",
    "if __name__==\"__main__\":\n",
    "    root = Node(12)\n",
    "    root.insert(6)\n",
    "    root.insert(14)\n",
    "    root.insert(3)\n",
    "    root.PrintTree()"
   ]
  },
  {
   "cell_type": "markdown",
   "metadata": {},
   "source": [
    "### Duyệt cây(Tree traversal)\n",
    "Là quá trình đi hết tất cả các nút của cây gồm có 3 loại sau đây:\n",
    "\n",
    "+ **Duyệt đầu(pre-order):** \n",
    "    + `Root-Left-Right`: Xử lý nút gốc, duyệt cây con trái, duyệt cây con phải\n",
    "    \n",
    "    + `Root-Right-Left`: Xử lý nút gốc, duyệt cây con phải, duyệt cây con trái\n",
    "+ **Duyệt giữa(in-order):**\n",
    "    + `Left-Root-Right`: Duyệt cây con trái, xử lý nút gốc, duyệt cây con phải\n",
    "    \n",
    "    + `Right-Root-Left`: Duyệt cây con phải, xử lý nút gốc, duyệt cây con trái\n",
    "+ **Duyệt cuối(post-order):**\n",
    "    + `Left-Right-Root`: Duyệt cây con trái, duyệt cây con phải, xử lý nút gốc\n",
    "    \n",
    "    + `Right-Left-Root`: Duyệt cây con phải, duyệt cây con trái, xử lý nút gốc"
   ]
  },
  {
   "cell_type": "markdown",
   "metadata": {},
   "source": [
    "### Duyệt đầu"
   ]
  },
  {
   "cell_type": "code",
   "execution_count": 3,
   "metadata": {},
   "outputs": [
    {
     "name": "stdout",
     "output_type": "stream",
     "text": [
      "[27, 14, 10, 19, 35, 31, 42]\n"
     ]
    }
   ],
   "source": [
    "class Node:\n",
    "    def __init__(self, data):\n",
    "        self.left = None\n",
    "        self.right = None\n",
    "        self.data = data\n",
    "        \n",
    "    def insert(self, data):\n",
    "        if self.data:\n",
    "            if data < self.data:\n",
    "                if self.left is None:\n",
    "                    self.left = Node(data)\n",
    "                else:\n",
    "                    self.left.insert(data)\n",
    "            elif data > self.data:\n",
    "                if self.right is None:\n",
    "                    self.right = Node(data)\n",
    "                else:\n",
    "                    self.right.insert(data)\n",
    "        else:\n",
    "            self.data = data\n",
    "            \n",
    "    def PrintTree(self):\n",
    "        if self.left:\n",
    "            self.left.PrintTree()\n",
    "        print( self.data,end=\" \")\n",
    "        if self.right:\n",
    "            self.right.PrintTree()\n",
    "            \n",
    "    def PreorderTraversal(self, root):\n",
    "        res = []\n",
    "        if root:\n",
    "            res.append(root.data)\n",
    "            res = res + self.PreorderTraversal(root.left)\n",
    "            res = res + self.PreorderTraversal(root.right)\n",
    "        return res\n",
    "if __name__==\"__main__\":   \n",
    "    root = Node(27)\n",
    "    root.insert(14)\n",
    "    root.insert(35)\n",
    "    root.insert(10)\n",
    "    root.insert(19)\n",
    "    root.insert(31)\n",
    "    root.insert(42)\n",
    "    print(root.PreorderTraversal(root))"
   ]
  },
  {
   "cell_type": "markdown",
   "metadata": {},
   "source": [
    "### Duyệt giữa"
   ]
  },
  {
   "cell_type": "code",
   "execution_count": 4,
   "metadata": {},
   "outputs": [
    {
     "name": "stdout",
     "output_type": "stream",
     "text": [
      "10 14 19 27 31 35 42 None\n",
      "[10, 14, 19, 27, 31, 35, 42]\n"
     ]
    }
   ],
   "source": [
    "class Node:\n",
    "    def __init__(self, data):\n",
    "        self.left = None\n",
    "        self.right = None\n",
    "        self.data = data\n",
    "        \n",
    "    def insert(self, data):\n",
    "        if self.data:\n",
    "            if data < self.data:\n",
    "                if self.left is None:\n",
    "                    self.left = Node(data)\n",
    "                else:\n",
    "                    self.left.insert(data)\n",
    "            elif data > self.data:\n",
    "                if self.right is None:\n",
    "                    self.right = Node(data)\n",
    "                else:\n",
    "                    self.right.insert(data)\n",
    "        else:\n",
    "            self.data = data\n",
    "    def PrintTree(self):\n",
    "        if self.left:\n",
    "            self.left.PrintTree()\n",
    "        print( self.data,end=\" \")\n",
    "        if self.right:\n",
    "            self.right.PrintTree()\n",
    "    def inorderTraversal(self, root):\n",
    "        res = []\n",
    "        if root:\n",
    "            res = self.inorderTraversal(root.left)\n",
    "            res.append(root.data)\n",
    "            res = res + self.inorderTraversal(root.right)\n",
    "        return res\n",
    "if __name__==\"__main__\":\n",
    "    root = Node(27)\n",
    "    root.insert(14)\n",
    "    root.insert(35)\n",
    "    root.insert(10)\n",
    "    root.insert(19)\n",
    "    root.insert(31)\n",
    "    root.insert(42)\n",
    "    print(root.PrintTree())\n",
    "    print(root.inorderTraversal(root))   "
   ]
  },
  {
   "cell_type": "markdown",
   "metadata": {},
   "source": [
    "### Duyệt sau"
   ]
  },
  {
   "cell_type": "code",
   "execution_count": 5,
   "metadata": {},
   "outputs": [
    {
     "name": "stdout",
     "output_type": "stream",
     "text": [
      "[10, 19, 14, 31, 42, 35, 27]\n"
     ]
    }
   ],
   "source": [
    "class Node:\n",
    "    def __init__(self, data):\n",
    "        self.left = None\n",
    "        self.right = None\n",
    "        self.data = data\n",
    "# Insert Node\n",
    "    def insert(self, data):\n",
    "        if self.data:\n",
    "            if data < self.data:\n",
    "                if self.left is None:\n",
    "                    self.left = Node(data)\n",
    "                else:\n",
    "                    self.left.insert(data)\n",
    "            elif data > self.data:\n",
    "                if self.right is None:\n",
    "                    self.right = Node(data)\n",
    "                else:\n",
    "                    self.right.insert(data)\n",
    "        else:\n",
    "            self.data = data\n",
    "    def PrintTree(self):\n",
    "        if self.left:\n",
    "            self.left.PrintTree()\n",
    "        print( self.data,end=\" \")\n",
    "        if self.right:\n",
    "            self.right.PrintTree()\n",
    "    def PostorderTraversal(self, root):\n",
    "        res = []\n",
    "        if root:\n",
    "            res = self.PostorderTraversal(root.left)\n",
    "            res = res + self.PostorderTraversal(root.right)\n",
    "            res.append(root.data)\n",
    "        return res\n",
    "if __name__==\"__main__\":\n",
    "    root = Node(27)\n",
    "    root.insert(14)\n",
    "    root.insert(35)\n",
    "    root.insert(10)\n",
    "    root.insert(19)\n",
    "    root.insert(31)\n",
    "    root.insert(42)\n",
    "    print(root.PostorderTraversal(root))"
   ]
  },
  {
   "cell_type": "markdown",
   "metadata": {},
   "source": [
    "# 3. Cây nhị phân tìm kiếm (Binary Search Tree)\n",
    "Tìm kiếm tuần tự trong danh sách liên kết ta phải tìm kiếm từ phần tử đầu tiên của danh sách, phức tạp lên tới O(n). Để tránh trường hợp tìm kiếm tuần tự trong danh sách liên kết ta sử dụng cấu trúc cây mà mỗi nút chứa một khóa. Tìm kiếm một khóa trong cây là tìm kiếm trong các cây con.\n",
    "\n",
    "Cây nhị phân tìm kiếm là **cây nhị phân** mà tại mọi nút của cây thì **khóa của nút này** lớn hơn **tất cả khóa của cây con trái** và **nhỏ hơn tất cả khóa của cây con phải**."
   ]
  },
  {
   "cell_type": "markdown",
   "metadata": {},
   "source": [
    "<img align=\"left\" width=\"500\" height=\"500\" src=\"images/Binary_Search_Tree.jpg\">"
   ]
  },
  {
   "cell_type": "markdown",
   "metadata": {},
   "source": [
    "+ **Hình bên trái:**\n",
    "\n",
    "    + Tại nút 8: Các khóa 10,14 của cây con phải đều lớn hơn 8, các khóa 3,1,6,4,7 của cây con trái đều nhỏ hơn 8.\n",
    "\n",
    "    + Tại nút 3: Các khóa 6, 4, 7 của cây con phải đều lớn hơn 3, các khóa 1 của cây con trái đều nhỏ hơn 3.\n",
    "    + Tại nút 6: Khóa 7 node phải lớn hơn 6, khóa 4 node trái nhỏ hơn 6.\n",
    "+ **Hình bên phải:**\n",
    "    + Tại nút 3: Các khóa 6, 7 thõa điều kiện lớn hơn 3 **nhưng có key 2 nhỏ hơn 3 nên nó sai.**"
   ]
  },
  {
   "cell_type": "markdown",
   "metadata": {},
   "source": [
    "## Các thao tác với cây BST\n",
    "+ Khởi tạo cây\n",
    "+ Tìm kiếm khóa trong cây\n",
    "+ Loại bỏ khóa trong cây\n",
    "+ Duyệt cây"
   ]
  },
  {
   "cell_type": "markdown",
   "metadata": {},
   "source": [
    "### Khởi tạo và tìm kiếm khóa trong cây nhị phân tìm kiếm"
   ]
  },
  {
   "cell_type": "code",
   "execution_count": 6,
   "metadata": {},
   "outputs": [
    {
     "name": "stdout",
     "output_type": "stream",
     "text": [
      "7 Not Found\n",
      "14 is found\n",
      "None\n"
     ]
    }
   ],
   "source": [
    "class Node:\n",
    "    def __init__(self, data):\n",
    "        self.left = None\n",
    "        self.right = None\n",
    "        self.data = data\n",
    "\n",
    "    def insert(self, data):\n",
    "        if self.data:\n",
    "            if data < self.data:\n",
    "                if self.left is None:\n",
    "                    self.left = Node(data)\n",
    "                else:\n",
    "                    self.left.insert(data)\n",
    "            elif data > self.data:\n",
    "                if self.right is None:\n",
    "                    self.right = Node(data)\n",
    "                else:\n",
    "                    self.right.insert(data)\n",
    "        else:\n",
    "            self.data = data\n",
    "    def findval(self, lkpval):\n",
    "        if lkpval < self.data:\n",
    "            if self.left is None:\n",
    "                return str(lkpval)+\" Not Found\"\n",
    "            return self.left.findval(lkpval)\n",
    "        elif lkpval > self.data:\n",
    "            if self.right is None:\n",
    "                return str(lkpval)+\" Not Found\"\n",
    "            return self.right.findval(lkpval)\n",
    "        else:\n",
    "            print(str(self.data) + ' is found')\n",
    "    def PrintTree(self):\n",
    "        if self.left:\n",
    "            self.left.PrintTree()\n",
    "        print( self.data,end=\" \")\n",
    "        if self.right:\n",
    "            self.right.PrintTree()\n",
    "if __name__==\"__main__\":\n",
    "    root = Node(12)\n",
    "    root.insert(6)\n",
    "    root.insert(14)\n",
    "    root.insert(3)\n",
    "    print(root.findval(7))\n",
    "    print(root.findval(14))        "
   ]
  },
  {
   "cell_type": "markdown",
   "metadata": {},
   "source": [
    "# 4. Đống (Heap)"
   ]
  },
  {
   "cell_type": "markdown",
   "metadata": {},
   "source": [
    "Heap là một **cấu trúc cây đặc biệt**, trong đó **mỗi nút cha nhỏ hơn hoặc bằng nút con của nó** và nó được gọi là **Min Heap**. Nếu **mỗi nút cha lớn hơn hoặc bằng nút con của nó** thì nó được gọi là một **Max Heap**. \n",
    "\n",
    "Nó rất hữu ích là triển khai các hàng đợi ưu tiên trong đó mục hàng đợi có trọng số cao hơn được ưu tiên xử lý nhiều hơn."
   ]
  },
  {
   "cell_type": "markdown",
   "metadata": {},
   "source": [
    "<img align=\"left\" width=\"500\" height=\"500\" src=\"images/Heap.jpg\">"
   ]
  },
  {
   "cell_type": "markdown",
   "metadata": {},
   "source": [
    "## Các thao tác với heap:\n",
    "+ Khởi tạo heap\n",
    "+ Thêm khóa vào heap\n",
    "+ Lấy khóa từ heap\n",
    "+ Hiển thị heap"
   ]
  },
  {
   "cell_type": "markdown",
   "metadata": {},
   "source": [
    "## Tạo một heap dựa trên module heapq trong built in function của python"
   ]
  },
  {
   "cell_type": "code",
   "execution_count": 7,
   "metadata": {},
   "outputs": [
    {
     "name": "stdout",
     "output_type": "stream",
     "text": [
      "[1, 3, 5, 78, 21, 45]\n"
     ]
    }
   ],
   "source": [
    "import heapq\n",
    "\n",
    "H = [21,1,45,78,3,5]\n",
    "# Sử dụng heapify để xắp xếp lại các thành phần\n",
    "heapq.heapify(H)\n",
    "print(H)"
   ]
  },
  {
   "cell_type": "markdown",
   "metadata": {},
   "source": [
    "## Chèn phần tử vào heap"
   ]
  },
  {
   "cell_type": "code",
   "execution_count": 8,
   "metadata": {},
   "outputs": [
    {
     "name": "stdout",
     "output_type": "stream",
     "text": [
      "[1, 3, 5, 78, 21, 45]\n",
      "[1, 3, 5, 78, 21, 45, 8]\n"
     ]
    }
   ],
   "source": [
    "import heapq\n",
    "\n",
    "H = [21,1,45,78,3,5]\n",
    "heapq.heapify(H)\n",
    "print(H)\n",
    "\n",
    "# Thêm thành phần\n",
    "heapq.heappush(H,8)\n",
    "print(H)"
   ]
  },
  {
   "cell_type": "markdown",
   "metadata": {},
   "source": [
    "## Loại bỏ phần tử ở heap"
   ]
  },
  {
   "cell_type": "code",
   "execution_count": 9,
   "metadata": {},
   "outputs": [
    {
     "name": "stdout",
     "output_type": "stream",
     "text": [
      "[1, 3, 5, 78, 21, 45]\n",
      "[3, 21, 5, 78, 45]\n"
     ]
    }
   ],
   "source": [
    "import heapq\n",
    "\n",
    "H = [21,1,45,78,3,5]\n",
    "\n",
    "heapq.heapify(H)\n",
    "print(H)\n",
    "\n",
    "# Loại bỏ\n",
    "heapq.heappop(H)\n",
    "\n",
    "print(H)"
   ]
  },
  {
   "cell_type": "markdown",
   "metadata": {},
   "source": [
    "## Thay thế phần tử ở heap"
   ]
  },
  {
   "cell_type": "code",
   "execution_count": 10,
   "metadata": {},
   "outputs": [
    {
     "name": "stdout",
     "output_type": "stream",
     "text": [
      "[1, 3, 5, 78, 21, 45]\n",
      "[3, 6, 5, 78, 21, 45]\n"
     ]
    }
   ],
   "source": [
    "import heapq\n",
    "\n",
    "H = [21,1,45,78,3,5]\n",
    "\n",
    "heapq.heapify(H)\n",
    "print(H)\n",
    "\n",
    "# Thay thế thành phần 6\n",
    "heapq.heapreplace(H,6)\n",
    "print(H)"
   ]
  },
  {
   "cell_type": "code",
   "execution_count": null,
   "metadata": {},
   "outputs": [],
   "source": []
  }
 ],
 "metadata": {
  "kernelspec": {
   "display_name": "Python 3",
   "language": "python",
   "name": "python3"
  },
  "language_info": {
   "codemirror_mode": {
    "name": "ipython",
    "version": 3
   },
   "file_extension": ".py",
   "mimetype": "text/x-python",
   "name": "python",
   "nbconvert_exporter": "python",
   "pygments_lexer": "ipython3",
   "version": "3.7.0"
  }
 },
 "nbformat": 4,
 "nbformat_minor": 2
}

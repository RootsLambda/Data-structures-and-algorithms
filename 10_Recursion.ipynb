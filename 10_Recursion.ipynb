{
 "cells": [
  {
   "cell_type": "markdown",
   "metadata": {},
   "source": [
    "# 1. Định nghĩa về đệ quy\n",
    "\n",
    "Đệ quy gồm ba mệnh đề:\n",
    "+ **Mệnh đề cơ sở:** là mệnh đề không chứa khái niệm định nghĩa\n",
    "+ **Mệnh đề đệ quy:** là mệnh đề có sử dụng lại khái niệm được định nghĩa\n",
    "+ **Mệnh đề bao đóng:** là mệnh đề loại trừ những gì không liên quan đến mệnh đề cơ sở và mệnh đề đệ quy\n",
    "\n",
    "Lưu ý: Một quá trình đệ quy là đúng đắn nếu quá trình này kết thúc bằng mệnh đề cơ sở nếu không thì chương trình sẽ lặp vô hạn.\n",
    "\n",
    "Example 1: Tập E bao gồm các số chẵn không âm .\n",
    "\n",
    "+ Số 0 thuộc tập E (mệnh đề cơ sở)\n",
    "\n",
    "+ Nếu n thuộc tập E thì n+2 cũng thuộc tập E (mệnh đề đệ quy)\n",
    "\n",
    "+ Không có số nào thuộc tập E, ngoại trừ tập E có được từ 2 mệnh đề trên (mệnh đề bao đóng)\n",
    "\n",
    "Example 2: Tính giai thừa của n\n",
    "\n",
    "+ 0! = 1 đây là mệnh đề cơ sở\n",
    "\n",
    "+ n! = nx(n-1)! đây là mệnh đề đệ quy\n",
    "\n",
    "+ n phải là một số nguyên không âm n>=0 đây là mệnh đề bao đóng"
   ]
  },
  {
   "cell_type": "markdown",
   "metadata": {},
   "source": [
    "# 2. Hàm đệ quy\n",
    "Một hàm đệ quy có một hoặc nhiều mệnh đề cơ sở và một hoặc nhiều mệnh đề đệ quy.\n",
    "\n",
    "Sau mỗi lần đệ quy các dữ liệu vào được đơn giản hơn và lần gọi cuối cùng đạt tới mệnh đề cơ sở.\n",
    "\n",
    "## Các loại đệ quy:\n",
    "\n",
    "### + Đệ quy đơn: chỉ chứa một tự tham khảo (self- reference)\n",
    "\n",
    "### + Đa đệ quy: chứa nhiều tự tham khảo\n",
    "### + Đệ quy đuôi : là trường hợp đặc biệt của đệ quy mà việc gọi đệ quy là hành động cuối cùng\n",
    "Example: \n",
    "+ Hàm tính giai thừa là đệ quy đơn vì thân hàm chỉ có một lần gọi đệ quy\n",
    "+ Hàm tìm ucln là đệ quy đơn và đệ quy đuôi bởi vì gọi đệ quy là hành động cuối cùng.\n",
    "+ Hàm Fibonaci là hàm đa đệ quy vì trong hàm có 2 lần gọi đệ quy."
   ]
  },
  {
   "cell_type": "code",
   "execution_count": 1,
   "metadata": {},
   "outputs": [
    {
     "data": {
      "text/plain": [
       "120"
      ]
     },
     "execution_count": 1,
     "metadata": {},
     "output_type": "execute_result"
    }
   ],
   "source": [
    "#Đệ quy đơn\n",
    "results=1\n",
    "def factorial(n):\n",
    "    if n==0:\n",
    "        results=1\n",
    "    else:\n",
    "        results=n*factorial(n-1)\n",
    "    return results\n",
    "factorial(5)"
   ]
  },
  {
   "cell_type": "markdown",
   "metadata": {},
   "source": [
    "Các thức đệ quy:\n",
    "\n",
    "factorial(5)&nbsp;=&nbsp;5 \\* factorial(4)\n",
    "             <br>\n",
    "&nbsp; &nbsp; &nbsp; &nbsp; &nbsp;&nbsp; &nbsp; &nbsp; &nbsp; &nbsp;= 5 \\* 4 \\* factorial(3)\n",
    "             <br>\n",
    "&nbsp; &nbsp; &nbsp; &nbsp; &nbsp;&nbsp; &nbsp; &nbsp; &nbsp; &nbsp;= 5 \\* 4 \\* 3 \\* factorial(2)\n",
    "             <br>\n",
    "&nbsp; &nbsp; &nbsp; &nbsp; &nbsp;&nbsp; &nbsp; &nbsp; &nbsp; &nbsp;= 5 \\* 4 \\* 3 \\* 2 \\* factorial(1)\n",
    "             <br>\n",
    "&nbsp; &nbsp; &nbsp; &nbsp; &nbsp;&nbsp; &nbsp; &nbsp; &nbsp; &nbsp;= 5 \\* 4 \\* 3 \\* 2 \\* 1 \\* factorial(0)\n",
    "             <br>\n",
    "&nbsp; &nbsp; &nbsp; &nbsp; &nbsp;&nbsp; &nbsp; &nbsp; &nbsp; &nbsp;= 5 \\* 4 \\* 3 \\* 2 \\* 1 \\* 1\n",
    "             <br>\n",
    "&nbsp; &nbsp; &nbsp; &nbsp; &nbsp;&nbsp; &nbsp; &nbsp; &nbsp; &nbsp;= 120 "
   ]
  },
  {
   "cell_type": "code",
   "execution_count": 2,
   "metadata": {},
   "outputs": [
    {
     "data": {
      "text/plain": [
       "1"
      ]
     },
     "execution_count": 2,
     "metadata": {},
     "output_type": "execute_result"
    }
   ],
   "source": [
    "# Đệ quy đuôi\n",
    "def gcd(a,b):\n",
    "    if b==0:\n",
    "        return a\n",
    "    else:\n",
    "        return gcd(b,a%b) \n",
    "gcd(2,19)"
   ]
  },
  {
   "cell_type": "code",
   "execution_count": 3,
   "metadata": {},
   "outputs": [
    {
     "data": {
      "text/plain": [
       "5"
      ]
     },
     "execution_count": 3,
     "metadata": {},
     "output_type": "execute_result"
    }
   ],
   "source": [
    "# Đa đệ quy\n",
    "def Fibonaci(n):\n",
    "    if n<=0:\n",
    "        return 0\n",
    "    elif n==1:\n",
    "        return 1\n",
    "    else:\n",
    "        return Fibonaci(n-1)+Fibonaci(n-2)\n",
    "Fibonaci(5)"
   ]
  },
  {
   "attachments": {},
   "cell_type": "markdown",
   "metadata": {},
   "source": [
    "**Sơ đồ cây của lời gọi hàm Fibonaci(5)**\n",
    "\n",
    "<img align=\"left\" width=\"500\" height=\"500\" src=\"images/Tree_Fibonaci.jpg\">"
   ]
  },
  {
   "cell_type": "markdown",
   "metadata": {},
   "source": [
    "Lưu ý: Trong thân của hàm đệ quy ta thường viết xử lý các mệnh đề cơ sở, sau đó ta viết đoạn mã xử lý các mệnh đề đệ quy. Mệnh đề bao đóng phải được kiểm tra trước khi gọi hàm đệ quy. Đệ quy thưởng kém hiệu quả do tốn bộ nhớ và thời gian chạy khá lâu sau mỗi lần truy hồi lại hàm.\n",
    "\n",
    "### + Đệ quy gián tiếp: khi một hàm không được gọi chính nó mà bởi một hàm khác do nó gọi hàm này\n",
    "\n",
    "Example: hàm F1 gọi hàm F2, hàm F2 gọi hàm F3 và hàm F3 gọi hàm F1. Hàm F1 gọi gián tiếp hàm F3."
   ]
  },
  {
   "cell_type": "code",
   "execution_count": 4,
   "metadata": {},
   "outputs": [
    {
     "data": {
      "text/plain": [
       "False"
      ]
     },
     "execution_count": 4,
     "metadata": {},
     "output_type": "execute_result"
    }
   ],
   "source": [
    "def Even(n):\n",
    "    if n==0:\n",
    "        return True\n",
    "    else:\n",
    "        return Odd(n-1)\n",
    "def Odd(n):\n",
    "    if n==0:\n",
    "        return False\n",
    "    else:\n",
    "        return Even(n-1)\n",
    "Even(5)"
   ]
  },
  {
   "cell_type": "markdown",
   "metadata": {},
   "source": [
    "# 3. Đệ quy và lặp vòng (Interation)\n",
    "\n",
    "Đệ quy có thể thay thế bởi lặp vòng với cái chồng stack tường minh.\n",
    "\n",
    "Lặp vòng có thể thay thế bởi đệ quy đuôi và ngược lại.\n",
    "\n",
    "Người lập trình thường sử dụng giải thuật lặp vòng hoặc đệ quy đơn để tránh tốn nhiều thời gian gọi hàm.\n",
    "\n",
    "Trong ngôn ngữ lập trình hàm người lập trình cũng thường sử dụng nhiều nhất là đệ quy đuôi.\n",
    "\n",
    "Example 1: Tính giai thừa sử dụng đệ quy và lặp vòng."
   ]
  },
  {
   "cell_type": "code",
   "execution_count": 5,
   "metadata": {},
   "outputs": [
    {
     "data": {
      "text/plain": [
       "120"
      ]
     },
     "execution_count": 5,
     "metadata": {},
     "output_type": "execute_result"
    }
   ],
   "source": [
    "#Đệ quy\n",
    "results=1\n",
    "def factorial(n):\n",
    "    if n==0:\n",
    "        results=1\n",
    "    else:\n",
    "        results=n*factorial(n-1)\n",
    "    return results\n",
    "factorial(5)"
   ]
  },
  {
   "cell_type": "code",
   "execution_count": 6,
   "metadata": {},
   "outputs": [
    {
     "data": {
      "text/plain": [
       "120"
      ]
     },
     "execution_count": 6,
     "metadata": {},
     "output_type": "execute_result"
    }
   ],
   "source": [
    "#Lặp vòng\n",
    "def Factorial(n):\n",
    "    factorial=1\n",
    "    for i in range(2,n+1):\n",
    "        factorial=factorial*i\n",
    "    return factorial\n",
    "Factorial(5)"
   ]
  },
  {
   "cell_type": "markdown",
   "metadata": {},
   "source": [
    "Example 2: Tính ước chung lớn nhất của hai số sử dụng đệ quy và lặp vòng."
   ]
  },
  {
   "cell_type": "code",
   "execution_count": 7,
   "metadata": {},
   "outputs": [
    {
     "data": {
      "text/plain": [
       "2"
      ]
     },
     "execution_count": 7,
     "metadata": {},
     "output_type": "execute_result"
    }
   ],
   "source": [
    "# Đệ quy\n",
    "def gcd(a,b):\n",
    "    if b==0:\n",
    "        return a\n",
    "    else:\n",
    "        return gcd(b,a%b) \n",
    "gcd(8,18)"
   ]
  },
  {
   "cell_type": "code",
   "execution_count": 8,
   "metadata": {},
   "outputs": [
    {
     "data": {
      "text/plain": [
       "2"
      ]
     },
     "execution_count": 8,
     "metadata": {},
     "output_type": "execute_result"
    }
   ],
   "source": [
    "# Lặp vòng\n",
    "def GCD(a,b):\n",
    "    while b!=0:\n",
    "        r=a%b\n",
    "        a=b\n",
    "        b=r\n",
    "    return a\n",
    "GCD(8,18)"
   ]
  },
  {
   "cell_type": "code",
   "execution_count": 9,
   "metadata": {},
   "outputs": [
    {
     "data": {
      "text/plain": [
       "2"
      ]
     },
     "execution_count": 9,
     "metadata": {},
     "output_type": "execute_result"
    }
   ],
   "source": [
    "# Sử dụng thuật toán naive\n",
    "def iterative_gcd(num1, num2):\n",
    "# Xác định giá trị lớn nhất của num1 và nùm\n",
    "    Min = num1 if num1 < num2 else num2\n",
    "# 1 được xem là factor ban đầu\n",
    "    largest_factor = 1;\n",
    "    for i in range(1, Min + 1):\n",
    "        if num1 % i == 0 and num2 % i == 0:\n",
    "            largest_factor = i\n",
    "    return largest_factor\n",
    "iterative_gcd(8,18)"
   ]
  },
  {
   "cell_type": "markdown",
   "metadata": {},
   "source": [
    "Example 3: Tính số n của dãy Fibonaci sử dụng đệ quy và lặp vòng."
   ]
  },
  {
   "cell_type": "code",
   "execution_count": 10,
   "metadata": {},
   "outputs": [
    {
     "data": {
      "text/plain": [
       "5"
      ]
     },
     "execution_count": 10,
     "metadata": {},
     "output_type": "execute_result"
    }
   ],
   "source": [
    "# Đệ quy\n",
    "def Fibonaci(n):\n",
    "    if n<=0:\n",
    "        return 0\n",
    "    elif n==1:\n",
    "        return 1\n",
    "    else:\n",
    "        return Fibonaci(n-1)+Fibonaci(n-2)\n",
    "Fibonaci(5)"
   ]
  },
  {
   "cell_type": "code",
   "execution_count": 11,
   "metadata": {},
   "outputs": [
    {
     "data": {
      "text/plain": [
       "5"
      ]
     },
     "execution_count": 11,
     "metadata": {},
     "output_type": "execute_result"
    }
   ],
   "source": [
    "# Lặp vòng\n",
    "results=0\n",
    "def Fibonaci(n):\n",
    "    if n<=0:\n",
    "        results=0\n",
    "    elif n==1:\n",
    "        results=1\n",
    "    else:\n",
    "        F2=0;F1=1\n",
    "        for i in range(2, n+1):\n",
    "            Fn=F2+F1\n",
    "            F2=F1\n",
    "            F1=Fn\n",
    "        results=Fn\n",
    "    return results\n",
    "Fibonaci(5)"
   ]
  },
  {
   "cell_type": "markdown",
   "metadata": {},
   "source": [
    "# 4. Quay lui (Backtracking)\n",
    "Là một giải thuật xác định một chuỗi các điểm quyết định(decision point) mà mỗi chọn lựa sẽ dẫn đến một đường đi nào đó.\n",
    "+ Nếu đường đi này cho ra kết quả mong muốn thì vấn đề đã được giải quyết.\n",
    "+ Ngược lại thì quay lui về điểm quyết định trước đó để tìm đường khác.\n",
    "+ Lặp lại cách này cho đến khi vấn đề được giải quyết.\n",
    "\n",
    "<img align=\"left\" width=\"500\" height=\"500\" src=\"images/Backtracking.jpg\">"
   ]
  },
  {
   "cell_type": "markdown",
   "metadata": {},
   "source": [
    "Example: Sinh hoán vị mảng a có n phần tử."
   ]
  },
  {
   "cell_type": "code",
   "execution_count": 12,
   "metadata": {},
   "outputs": [
    {
     "name": "stdout",
     "output_type": "stream",
     "text": [
      "['a', 'b', 'c']\n",
      "['aa', 'ab', 'ac', 'ba', 'bb', 'bc', 'ca', 'cb', 'cc']\n"
     ]
    }
   ],
   "source": [
    "def permute(list_A, s):\n",
    "    results=[]\n",
    "    if list_A == 1:\n",
    "        return s\n",
    "    else:\n",
    "        for y in permute(1,s):\n",
    "            for x in permute(list_A-1,s):\n",
    "                results.append(y+x)\n",
    "    return results\n",
    "print(permute(1, [\"a\",\"b\",\"c\"]))\n",
    "print(permute(2, [\"a\",\"b\",\"c\"]))"
   ]
  },
  {
   "cell_type": "markdown",
   "metadata": {},
   "source": [
    "# 5. Chia để trị (divide and conquer)\n",
    "\n",
    "Một bài toán lớn có thể được chia thành các bài toán con nhỏ hơn và sau đó mỗi bài toán được giải quyết một cách độc lập. \n",
    "\n",
    "Khi chúng ta tiếp tục chia các bài toán con thành các bài toán con thậm chí nhỏ hơn, cuối cùng chúng ta có thể đạt đến một giai đoạn mà không thể chia thêm nữa. \n",
    "\n",
    "Lời giải của tất cả các bài toán con cuối cùng được hợp nhất để có được lời giải của một bài toán ban đầu."
   ]
  },
  {
   "cell_type": "markdown",
   "metadata": {},
   "source": [
    "<img align=\"left\" width=\"400\" height=\"400\" src=\"images/Divide_and_conquer.jpg\">"
   ]
  },
  {
   "cell_type": "markdown",
   "metadata": {},
   "source": [
    "Gồm 3 bước:\n",
    "\n",
    "+ Divide\n",
    "+ Conquer\n",
    "+ Merge"
   ]
  },
  {
   "cell_type": "markdown",
   "metadata": {},
   "source": [
    "Example: Sử dụng divide and conquer vào thuật toán tìm kiếm nhị phân với điều kiện mảng ban đầu đã được xắp xếp theo thứ tự tăng dần ."
   ]
  },
  {
   "cell_type": "code",
   "execution_count": 13,
   "metadata": {},
   "outputs": [
    {
     "name": "stdout",
     "output_type": "stream",
     "text": [
      "5\n",
      "None\n"
     ]
    }
   ],
   "source": [
    "def binarysearch(list_A, key):\n",
    "    id_end = len(list_A) - 1\n",
    "    id_start = 0\n",
    "    while id_start <= id_end:\n",
    "        id_mid = (id_start + id_end)// 2\n",
    "        if list_A[id_mid] == key:\n",
    "            return id_mid\n",
    "# So sánh key với giá trị giữa\n",
    "        if key > list_A[id_mid]:\n",
    "            id_start = id_mid + 1\n",
    "        else:\n",
    "            id_end = id_mid - 1\n",
    "        if id_start > id_end:\n",
    "            return None\n",
    "\n",
    "list_A = [2,7,19,34,53,72]\n",
    "print(binarysearch(list_A,72))\n",
    "print(binarysearch(list_A,11))"
   ]
  },
  {
   "cell_type": "markdown",
   "metadata": {},
   "source": [
    "Độ phức tạp của thuật toán này sẽ là O($log_2{n}$)."
   ]
  },
  {
   "cell_type": "markdown",
   "metadata": {},
   "source": [
    "**Sử dụng đệ quy**"
   ]
  },
  {
   "cell_type": "code",
   "execution_count": 14,
   "metadata": {},
   "outputs": [
    {
     "name": "stdout",
     "output_type": "stream",
     "text": [
      "2\n",
      "None\n"
     ]
    }
   ],
   "source": [
    "def bsearch(list_A, id_start, id_end, key):\n",
    "    if (id_end < id_start):\n",
    "        return None\n",
    "    else:\n",
    "        id_mid = id_start + ((id_end - id_start) // 2)\n",
    "# Compare the search item with middle most value\n",
    "    if list_A[id_mid] > key:\n",
    "        return bsearch(list_A, id_start, id_mid-1,key)\n",
    "    elif list_A[id_mid] < key:\n",
    "        return bsearch(list_A, id_mid+1, id_end, key)\n",
    "    else:\n",
    "        return id_mid\n",
    "list = [8,11,24,56,88,131]\n",
    "print(bsearch(list, 0, 5, 24))\n",
    "print(bsearch(list, 0, 5, 51))"
   ]
  },
  {
   "cell_type": "code",
   "execution_count": null,
   "metadata": {},
   "outputs": [],
   "source": []
  }
 ],
 "metadata": {
  "kernelspec": {
   "display_name": "Python 3",
   "language": "python",
   "name": "python3"
  },
  "language_info": {
   "codemirror_mode": {
    "name": "ipython",
    "version": 3
   },
   "file_extension": ".py",
   "mimetype": "text/x-python",
   "name": "python",
   "nbconvert_exporter": "python",
   "pygments_lexer": "ipython3",
   "version": "3.7.0"
  }
 },
 "nbformat": 4,
 "nbformat_minor": 2
}

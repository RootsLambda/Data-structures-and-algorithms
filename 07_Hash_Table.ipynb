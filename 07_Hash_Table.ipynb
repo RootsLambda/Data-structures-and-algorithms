{
 "cells": [
  {
   "cell_type": "markdown",
   "metadata": {},
   "source": [
    "# 7.1 Giới thiệu"
   ]
  },
  {
   "cell_type": "markdown",
   "metadata": {},
   "source": [
    "Băm là phép biến đổi khóa, ánh xạ thích hợp H: từ tập khóa K vào các tập địa chỉ A của vùng nhớ lưu trữ.\n",
    "\n",
    "Các ánh xạ H gọi là hàm băm có thể là bất cứ hàm nào để đưa vào **bảng băm**.\n",
    "<img align=\"left\" width=\"400\" height=\"400\" src=\"images/Hash_table.png\">\n"
   ]
  },
  {
   "cell_type": "markdown",
   "metadata": {},
   "source": [
    "**Một số tính chất của hàm băm cần lưu ý:**\n",
    "\n",
    "+ Nó là hàm dễ tính toán không phải là thuật toán\n",
    "+ Phân bố phải đồng đều, không nên tập trung thành các cụm\n",
    "+ Không xảy ra va chạm khi các phần tử ánh xạ thành cùng 1 giá trị băm\n",
    "\n",
    "`H(key) = key modulo M`\n",
    "\n",
    "Với:\n",
    "+ modulo là phép toán lấy dư\n",
    "\n",
    "+ M là số nguyên tố\n",
    "<img align=\"left\" width=\"500\" height=\"500\" src=\"images/Function_hash.png\">\n"
   ]
  },
  {
   "cell_type": "markdown",
   "metadata": {},
   "source": [
    "Example: Cần băm các chuỗi sau đây {“abcdef”, “bcdefa”, “cdefab” , “defabc” }.\n",
    "\n",
    "Hàm băm sẽ là tổng các chữ cái của mã ASCII sau đó lấy dư 5, nhưng ta nhận thấy rằng các chữ cái này có tổng bằng nhau 597 vì chúng chỉ thay đổi vị trí trong chuỗi. Khi ta băm ra nó sẽ có cùng index trong bảng băm.\n",
    "\n",
    "<img align=\"left\" width=\"500\" height=\"500\" src=\"images/Collision.jpg\">"
   ]
  },
  {
   "cell_type": "markdown",
   "metadata": {},
   "source": [
    "Để giải quyết vấn đề này ta cần phải xây dựng hàm băm tốt hơn:\n",
    "\n",
    "Hàm băm mới sẽ là tổng chữ cái chuyển sang mã ASCII theo sau sẽ là vị trí index của chữ cái trong chuỗi. Sau đó lại tiếp tục lấy dư 2069.\n",
    "\n",
    "+ abcdef  :    (971 + 982 + 993 + 1004 + 1015 + 1026)%2069  =    38\n",
    "\n",
    "+ bcdefa   :    (981 + 992 + 1003 + 1014 + 1025 + 976)%2069   =    23\n",
    "\n",
    "+ cdefab   :    (991 + 1002 + 1013 + 1024 + 975 + 986)%2069   =    14\n",
    "\n",
    "+ defabc   :    (1001 + 1012 + 1023 + 974 + 985 + 996)%2069    =   11\n",
    "\n",
    "<img align=\"left\" width=\"500\" height=\"500\" src=\"images/Collison_Resolution.jpg\">"
   ]
  },
  {
   "cell_type": "markdown",
   "metadata": {},
   "source": [
    "# 7.2 Tạo một bảng băm\n",
    "\n",
    "Trong Python, các kiểu dữ liệu Dictionary đại diện cho việc triển khai các bảng băm.\n",
    "\n",
    "Các khóa của từ điển có thể băm, tức là các khóa được tạo bởi hàm băm tạo ra kết quả duy nhất cho mỗi giá trị duy nhất được cung cấp cho hàm băm.\n",
    "\n",
    "Thứ tự của các phần tử dữ liệu trong từ điển không cố định."
   ]
  },
  {
   "cell_type": "code",
   "execution_count": 1,
   "metadata": {},
   "outputs": [
    {
     "name": "stdout",
     "output_type": "stream",
     "text": [
      "dict['Name']:  Roots\n",
      "dict['Age']:  20\n"
     ]
    }
   ],
   "source": [
    "dict_A = {'Name': 'Roots', 'Age': 20, 'Class': 'MM19'}\n",
    "\n",
    "print (\"dict['Name']: \", dict_A['Name'])\n",
    "print (\"dict['Age']: \", dict_A['Age'])"
   ]
  },
  {
   "cell_type": "markdown",
   "metadata": {},
   "source": [
    "## Cập nhật (update) and thêm dữ liệu"
   ]
  },
  {
   "cell_type": "code",
   "execution_count": 2,
   "metadata": {},
   "outputs": [
    {
     "name": "stdout",
     "output_type": "stream",
     "text": [
      "dict['Age']:  21\n",
      "dict['School']:  HCM Technology\n"
     ]
    },
    {
     "data": {
      "text/plain": [
       "dict"
      ]
     },
     "execution_count": 2,
     "metadata": {},
     "output_type": "execute_result"
    }
   ],
   "source": [
    "dict_A = {'Name': 'Roots', 'Age': 20, 'Class': 'MM19'}\n",
    "dict_A['Age'] = 21; # update \n",
    "dict_A['School'] = \"HCM Technology\"; # Add \n",
    "print (\"dict['Age']: \", dict_A['Age'])\n",
    "print (\"dict['School']: \", dict_A['School'])\n",
    "dict"
   ]
  },
  {
   "cell_type": "markdown",
   "metadata": {},
   "source": [
    "## Xóa thành phần và clear toàn bộ trong dictionary"
   ]
  },
  {
   "cell_type": "code",
   "execution_count": 3,
   "metadata": {},
   "outputs": [
    {
     "data": {
      "text/plain": [
       "{}"
      ]
     },
     "execution_count": 3,
     "metadata": {},
     "output_type": "execute_result"
    }
   ],
   "source": [
    "dict_A = {'Name': 'Roots', 'Age': 20, 'Class': 'MM19'}\n",
    "del dict_A['Name'] # remove entry with key 'Name'\n",
    "dict_A.clear()   # remove all entries in dict\n",
    "dict_A"
   ]
  },
  {
   "cell_type": "code",
   "execution_count": null,
   "metadata": {},
   "outputs": [],
   "source": []
  }
 ],
 "metadata": {
  "kernelspec": {
   "display_name": "Python 3",
   "language": "python",
   "name": "python3"
  },
  "language_info": {
   "codemirror_mode": {
    "name": "ipython",
    "version": 3
   },
   "file_extension": ".py",
   "mimetype": "text/x-python",
   "name": "python",
   "nbconvert_exporter": "python",
   "pygments_lexer": "ipython3",
   "version": "3.7.0"
  }
 },
 "nbformat": 4,
 "nbformat_minor": 2
}

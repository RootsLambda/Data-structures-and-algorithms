{
 "cells": [
  {
   "cell_type": "markdown",
   "metadata": {},
   "source": [
    "# 1. Giải thuật là gì?"
   ]
  },
  {
   "cell_type": "markdown",
   "metadata": {},
   "source": [
    "Giải thuật là một chuỗi hành động không phân chia được còn gọi là các quá trình được thực hiện trên một tập dữ liệu nhập input và tạo ra kết quả output trong một khoảng thời gian hữu hạn.\n",
    "\n",
    "Ta có thể mô tả giải thuật bằng:\n",
    "+ Ngôn ngữ tự nhiên\n",
    "+ Mã giả\n",
    "+ Lưu đồ tiến trình\n",
    "\n",
    "# 2. Hiệu suất của thuật toán\n",
    "\n",
    "Giả sử X là một thuật toán và n là kích thước của dữ liệu đầu vào, thời gian và không gian mà thuật toán X sử dụng là hai yếu tố chính, quyết định hiệu quả của X.\n",
    "\n",
    "+ **Độ phức tạp về thời gian** - Thời gian được đo bằng cách đếm số lượng các thao tác chính như so sánh trong thuật toán sắp xếp.\n",
    "\n",
    "+ **Độ phức tạp về không gian** - Không gian được đo bằng cách khối lượng không gian bộ nhớ(byte) tối đa mà thuật toán yêu cầu.\n",
    "\n",
    "Một giải thuật được **xem là hiệu quả** nếu độ phức tạp của giải thuật thấp, nghĩa là **tốn ít thời gian thực hiện** và **tốn ít bộ nhớ** để thực hiện giải thuật.\n",
    "\n",
    "Exmaple 1: Tính tổng từ 1 đến n\n",
    "```python\n",
    "Sum=0\n",
    "for i in range(n+1):\n",
    "    Sum=Sum+i\n",
    "```\n",
    "Ta sẽ thấy thời gian để thực hiện giải thuật là  F(n) = n với n là số lần lặp lại.\n",
    "\n",
    "Example 2: Tính hàm chia sau đây\n",
    "```python\n",
    "i=1000\n",
    "while(i>=1):\n",
    "    i=i/2\n",
    "```\n",
    "Thời gian để thực hiện vòng lặp lại là F(n) = $log_2{n}$\n",
    "\n",
    "Example 3: Tính tổng các số hạng của ma trận nxn\n",
    "```python\n",
    "Sum=0\n",
    "for i in range(n):\n",
    "    for j in range(n):\n",
    "        Sum+=a[i][j]\n",
    "```\n",
    "Thời gian để thực hiện vòng lặp lại là F(n) = $n^2$\n",
    "\n",
    "# 3. Ký hiệu Big Oh\n",
    "Trong khoa học máy tính ký hiệu Big Oh được dùng để phân loại các giải thuật dựa vào thời gian thực hiện sẽ tăng lên khi kích thước đầu vào tăng lên, được gọi là độ phức tạp của giải thuật.\n",
    "\n",
    "`f(n) = O(g(n))` nếu tồn tại một số nguyên $n_0$ và một hằng số c>0 thì f(n) <= c.g(n) với mọi n > $n_0$.\n",
    "<img align=\"left\" width=\"500\" height=\"500\" src=\"https://media.geeksforgeeks.org/wp-content/cdn-uploads/20200807150308/3363.png\">\n"
   ]
  },
  {
   "cell_type": "markdown",
   "metadata": {},
   "source": [
    "Một số độ phức tạp của giải thuật phổ biến:\n",
    "+ O(1): Độ phức tạp hằng số\n",
    "+ O(log n): Độ phức tạp logarit của 2\n",
    "+ O(n): Độ phức tạp tuyến tính\n",
    "+ O(nlog n): Độ phức tạp n log n\n",
    "+ O(n^2): Độ phức tạp bậc 2\n",
    "+ n^O(1): Độ phức tạp đa thức\n",
    "\n",
    "<img align=\"left\" width=\"500\" height=\"500\" src=\"https://droidtechknow.com/programming/algorithms/big-o-notation/images/big-o-notation.jpg\">"
   ]
  },
  {
   "cell_type": "markdown",
   "metadata": {},
   "source": [
    "# 4. Trường hợp xấu nhất, trung bình và tốt nhất\n",
    "Example: Hiển thị số có trong một mảng a có n phần tử, mỗi số chỉ hiện thị 1 lần.\n",
    "\n",
    "Mã giả:\n",
    "\n",
    "Tại mỗi phần tử a[i] ta sẽ tìm coi nó có trong a[i+1] đến a[n-1] hay không.\n",
    "\n",
    "+ **Trường hợp tốt nhất:** Tất cả các phần tử đều giống nhau.\n",
    "\n",
    "T(n) = O(n)\n",
    "\n",
    "+ **Trường hợp xấu nhất:** Tất cả các phần tử đều khác nhau.\n",
    "\n",
    "T(n) = O(n^2)\n",
    "\n",
    "+ **Trường hợp trung bình:** có nhiều nhóm phần tử khác nhau."
   ]
  },
  {
   "cell_type": "code",
   "execution_count": null,
   "metadata": {},
   "outputs": [],
   "source": []
  }
 ],
 "metadata": {
  "kernelspec": {
   "display_name": "Python 3",
   "language": "python",
   "name": "python3"
  },
  "language_info": {
   "codemirror_mode": {
    "name": "ipython",
    "version": 3
   },
   "file_extension": ".py",
   "mimetype": "text/x-python",
   "name": "python",
   "nbconvert_exporter": "python",
   "pygments_lexer": "ipython3",
   "version": "3.7.0"
  }
 },
 "nbformat": 4,
 "nbformat_minor": 2
}

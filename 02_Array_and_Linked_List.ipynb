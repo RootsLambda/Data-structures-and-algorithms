{
 "cells": [
  {
   "cell_type": "markdown",
   "metadata": {},
   "source": [
    "# 1. Giới thiệu"
   ]
  },
  {
   "cell_type": "markdown",
   "metadata": {},
   "source": [
    "Danh sách là cấu trúc dữ liệu tuyến tính gồm nhiều phần tử mà tính chất cấu trúc của chúng là mối liên hệ tương đối giữa các phần tử với nhau.\n",
    "\n",
    "Có hai loại danh sách:\n",
    "\n",
    "+ Danh sách đặc gọi là mảng.\n",
    "\n",
    "+ Danh sách liên kết: danh sách liên kết đơn, danh sách liên kết kép, danh sách liên kết vòng."
   ]
  },
  {
   "cell_type": "markdown",
   "metadata": {},
   "source": [
    "# 2. Mảng array"
   ]
  },
  {
   "cell_type": "markdown",
   "metadata": {},
   "source": [
    "Mảng là một danh sách mà các phần tử được lưu trữ liên tiếp nhau trong bộ nhớ, mỗi phần tử được xác định bằng chỉ số của nó và chỉ số được đánh từ 0."
   ]
  },
  {
   "cell_type": "markdown",
   "metadata": {},
   "source": [
    "Khi khai báo mảng ta cần xác định:\n",
    "+ Tên mảng\n",
    "+ Số lượng phần tử của mảng\n",
    "+ Kiểu dữ liệu của phần tử trong mảng"
   ]
  },
  {
   "attachments": {},
   "cell_type": "markdown",
   "metadata": {},
   "source": [
    "<img align=\"left\" width=\"400\" height=\"400\" src=\"images/array_python.jpg\">"
   ]
  },
  {
   "cell_type": "markdown",
   "metadata": {},
   "source": [
    "Giả sử địa chỉ bắt đầu: 0x8600 (0x là tiền tố của hệ hexadecimal). \n",
    "\n",
    "Địa chỉ thứ n của ô được tính = địa chỉ bắt đầu + index\\*size(data_type)\n",
    "\n",
    "Với:\n",
    "\n",
    "+ Data Type: giá trị lưu trữ trong ô\n",
    "\n",
    "+ Size: Kích thức ở của data type trong ô đó"
   ]
  },
  {
   "cell_type": "markdown",
   "metadata": {},
   "source": [
    "<img align=\"left\" width=\"500\" height=\"500\" src=\"images/array_address.png\">"
   ]
  },
  {
   "cell_type": "markdown",
   "metadata": {},
   "source": [
    "## Tạo một mảng"
   ]
  },
  {
   "cell_type": "code",
   "execution_count": 1,
   "metadata": {},
   "outputs": [],
   "source": [
    "from array import array\n",
    "\n",
    "arr = array('i', [10,20,30,40,50])"
   ]
  },
  {
   "cell_type": "markdown",
   "metadata": {},
   "source": [
    "## Các thao tác với dữ liệu kiểu mảng:\n",
    "+ Xuất mảng\n",
    "+ Chèn phần tử\n",
    "+ Xóa phần tử\n",
    "+ Tìm kiếm phần tử\n",
    "+ Cập nhật phần tử"
   ]
  },
  {
   "cell_type": "markdown",
   "metadata": {},
   "source": [
    "## Khả năng truy cập(access) hoặc read data"
   ]
  },
  {
   "cell_type": "markdown",
   "metadata": {},
   "source": [
    "**Xuất mảng**"
   ]
  },
  {
   "cell_type": "code",
   "execution_count": 2,
   "metadata": {},
   "outputs": [
    {
     "name": "stdout",
     "output_type": "stream",
     "text": [
      "10 20 30 40 50 "
     ]
    }
   ],
   "source": [
    "for x in arr:\n",
    "    print(x,end=' ')"
   ]
  },
  {
   "cell_type": "markdown",
   "metadata": {},
   "source": [
    "**Truy xuất đến phần tử của mảng**"
   ]
  },
  {
   "cell_type": "code",
   "execution_count": 3,
   "metadata": {},
   "outputs": [
    {
     "name": "stdout",
     "output_type": "stream",
     "text": [
      "10\n"
     ]
    }
   ],
   "source": [
    "print (arr[0])"
   ]
  },
  {
   "cell_type": "markdown",
   "metadata": {},
   "source": [
    "## Khả năng sửa đổi(modify) hoặc ghi data"
   ]
  },
  {
   "cell_type": "markdown",
   "metadata": {},
   "source": [
    "**Chèn thêm phần tử**"
   ]
  },
  {
   "cell_type": "code",
   "execution_count": 4,
   "metadata": {},
   "outputs": [
    {
     "name": "stdout",
     "output_type": "stream",
     "text": [
      "10 60 20 30 40 50 "
     ]
    }
   ],
   "source": [
    "arr.insert(1,60)\n",
    "\n",
    "for x in arr:\n",
    "    print(x,end=' ')"
   ]
  },
  {
   "cell_type": "markdown",
   "metadata": {},
   "source": [
    "**Xóa phần tử**"
   ]
  },
  {
   "cell_type": "code",
   "execution_count": 5,
   "metadata": {},
   "outputs": [
    {
     "name": "stdout",
     "output_type": "stream",
     "text": [
      "10 60 20 30 50 "
     ]
    }
   ],
   "source": [
    "arr.remove(40)\n",
    "\n",
    "for x in arr:\n",
    "    print(x,end=' ')"
   ]
  },
  {
   "cell_type": "markdown",
   "metadata": {},
   "source": [
    "**Tìm kiếm phần tử**"
   ]
  },
  {
   "cell_type": "code",
   "execution_count": 6,
   "metadata": {},
   "outputs": [
    {
     "data": {
      "text/plain": [
       "4"
      ]
     },
     "execution_count": 6,
     "metadata": {},
     "output_type": "execute_result"
    }
   ],
   "source": [
    "arr.index(50)"
   ]
  },
  {
   "cell_type": "markdown",
   "metadata": {},
   "source": [
    "**Cập nhật phần tử**"
   ]
  },
  {
   "cell_type": "code",
   "execution_count": 7,
   "metadata": {},
   "outputs": [
    {
     "name": "stdout",
     "output_type": "stream",
     "text": [
      "10 20 80 40 50 "
     ]
    }
   ],
   "source": [
    "from array import *\n",
    "\n",
    "array1 = array('i', [10,20,30,40,50])\n",
    "\n",
    "array1[2] = 80\n",
    "\n",
    "for x in array1:\n",
    "    print(x,end=' ')"
   ]
  },
  {
   "cell_type": "markdown",
   "metadata": {},
   "source": [
    "##  Mảng 2 chiều"
   ]
  },
  {
   "cell_type": "code",
   "execution_count": 8,
   "metadata": {},
   "outputs": [
    {
     "name": "stdout",
     "output_type": "stream",
     "text": [
      "[11, 12, 5, 2]\n",
      "10\n"
     ]
    }
   ],
   "source": [
    "T = [[11, 12, 5, 2], [15, 6,10], [10, 8, 12, 5], [12,15,8,6]]\n",
    "\n",
    "print(T[0])\n",
    "\n",
    "print(T[1][2])"
   ]
  },
  {
   "cell_type": "markdown",
   "metadata": {},
   "source": [
    "**Xuất mảng 2 chiều**"
   ]
  },
  {
   "cell_type": "code",
   "execution_count": 9,
   "metadata": {},
   "outputs": [
    {
     "name": "stdout",
     "output_type": "stream",
     "text": [
      "11 12 5 2 \n",
      "15 6 10 \n",
      "10 8 12 5 \n",
      "12 15 8 6 \n"
     ]
    }
   ],
   "source": [
    "T = [[11, 12, 5, 2], [15, 6,10], [10, 8, 12, 5], [12,15,8,6]]\n",
    "for r in T:\n",
    "    for c in r:\n",
    "        print(c,end = \" \")\n",
    "    print()"
   ]
  },
  {
   "cell_type": "markdown",
   "metadata": {},
   "source": [
    "**Thêm phần tử**"
   ]
  },
  {
   "cell_type": "code",
   "execution_count": 10,
   "metadata": {},
   "outputs": [
    {
     "name": "stdout",
     "output_type": "stream",
     "text": [
      "11 12 5 2 \n",
      "15 6 10 \n",
      "0 5 11 13 6 \n",
      "10 8 12 5 \n",
      "12 15 8 6 \n"
     ]
    }
   ],
   "source": [
    "T = [[11, 12, 5, 2], [15, 6,10], [10, 8, 12, 5], [12,15,8,6]]\n",
    "\n",
    "T.insert(2, [0,5,11,13,6])\n",
    "\n",
    "for r in T:\n",
    "    for c in r:\n",
    "        print(c,end = \" \")\n",
    "    print()"
   ]
  },
  {
   "cell_type": "markdown",
   "metadata": {},
   "source": [
    "**Cập nhật phần tử**"
   ]
  },
  {
   "cell_type": "code",
   "execution_count": 11,
   "metadata": {},
   "outputs": [
    {
     "name": "stdout",
     "output_type": "stream",
     "text": [
      "11 12 5 7 \n",
      "15 6 10 \n",
      "11 9 \n",
      "12 15 8 6 \n"
     ]
    }
   ],
   "source": [
    "T = [[11, 12, 5, 2], [15, 6,10], [10, 8, 12, 5], [12,15,8,6]]\n",
    "\n",
    "T[2] = [11,9]\n",
    "T[0][3] = 7\n",
    "for r in T:\n",
    "    for c in r:\n",
    "        print(c,end = \" \")\n",
    "    print()"
   ]
  },
  {
   "cell_type": "markdown",
   "metadata": {},
   "source": [
    "**Xóa phần tử**"
   ]
  },
  {
   "cell_type": "code",
   "execution_count": 12,
   "metadata": {},
   "outputs": [
    {
     "name": "stdout",
     "output_type": "stream",
     "text": [
      "11 12 5 2 \n",
      "15 6 10 \n",
      "10 8 12 5 \n"
     ]
    }
   ],
   "source": [
    "T = [[11, 12, 5, 2], [15, 6,10], [10, 8, 12, 5], [12,15,8,6]]\n",
    "\n",
    "del T[3]\n",
    "\n",
    "for r in T:\n",
    "    for c in r:\n",
    "        print(c,end = \" \")\n",
    "    print()"
   ]
  },
  {
   "cell_type": "markdown",
   "metadata": {},
   "source": [
    "# 3. Danh sách liên kết (Linked List)"
   ]
  },
  {
   "cell_type": "markdown",
   "metadata": {},
   "source": [
    "Danh sách liên kết là một cấu trúc dữ liệu tuyến tính, khác với mảng là các phần tử không được lưu trữ tại các vị trí bộ nhớ liền kề. Các phần tử trong danh sách được liên kết được liên kết bằng cách sử dụng con trỏ tới nút đầu tiên của danh sách được liên kết. Nút đầu tiên được gọi là đầu. \n",
    "\n",
    "Nếu danh sách liên kết trống, thì giá trị của phần đầu là NULL. Mỗi nút trong danh sách bao gồm ít nhất hai phần:\n",
    "\n",
    "+ **Dữ liệu** chứa dữ liệu\n",
    "+ **Con trỏ** (hoặc Tham chiếu) liên kết với địa chỉ của phần tử kế tiếp, liên kết của phần tử cuối cùng là null.\n",
    "\n",
    "Hình bên dưới minh họa cho danh sách liên kết đơn."
   ]
  },
  {
   "cell_type": "markdown",
   "metadata": {},
   "source": [
    "<img align=\"left\" width=\"500\" height=\"500\" src=\"images/Linkedlist.png\">"
   ]
  },
  {
   "cell_type": "markdown",
   "metadata": {},
   "source": [
    "## Các thao tác với danh sách liên kết đơn:\n",
    "+ Khởi tạo danh sách rỗng\n",
    "+ Hiển thị danh sách\n",
    "+ Thêm khóa vào danh sách\n",
    "+ Loại bỏ khóa trong danh sách\n",
    "+ Tìm kiếm khóa trong danh sách\n",
    "\n",
    "### Tạo một danh sách liên kết đơn"
   ]
  },
  {
   "cell_type": "code",
   "execution_count": 13,
   "metadata": {},
   "outputs": [],
   "source": [
    "class Node:\n",
    "    def __init__(self,data):\n",
    "        self.data=data\n",
    "        self.next=None # next đóng vai trò là con trỏ\n",
    "class LinkedList:\n",
    "    def __init__(self,head):\n",
    "        self.head=head # Head là con trỏ phần đầu tiên của danh sách"
   ]
  },
  {
   "cell_type": "markdown",
   "metadata": {},
   "source": [
    "### Cho dữ liệu vào danh sách"
   ]
  },
  {
   "cell_type": "code",
   "execution_count": 14,
   "metadata": {},
   "outputs": [],
   "source": [
    "class Node:\n",
    "    def __init__(self,data):\n",
    "        self.data=data\n",
    "        self.next=None\n",
    "class LinkedList:\n",
    "    def __init__(self,head):\n",
    "        self.head=head\n",
    "if __name__==\"__main__\":\n",
    "    llist=LinkedList\n",
    "    #Cho dữ liệu vào vùng dữ liệu\n",
    "    llist.head=Node(1)\n",
    "    sencond=Node(2)\n",
    "    third=Node(3)\n",
    "    # Cho con trỏ nó trỏ tới vùng dữ liệu kế tiếp\n",
    "    llist.head.next=sencond\n",
    "    llist.head.next=third"
   ]
  },
  {
   "cell_type": "markdown",
   "metadata": {},
   "source": [
    "### Xuất các phần tử của danh sách liên kết\n",
    "Gồm các bước:\n",
    "+ Gán biến temp cho head.\n",
    "+ Nếu temp khác rỗng sẽ in ra dữ liệu.\n",
    "+ Biến temp trỏ tới phần tử tiếp theo."
   ]
  },
  {
   "cell_type": "code",
   "execution_count": 15,
   "metadata": {},
   "outputs": [
    {
     "name": "stdout",
     "output_type": "stream",
     "text": [
      "1\n",
      "2\n",
      "3\n"
     ]
    }
   ],
   "source": [
    "class Node:\n",
    "    def __init__(self,data):\n",
    "        self.data=data\n",
    "        self.next=None\n",
    "class LinkedList:\n",
    "    def __init__(self):\n",
    "        self.head=None\n",
    "        \n",
    "    def printList(self):\n",
    "        temp=self.head #instance\n",
    "        while (temp):# tương đương temp!=empty\n",
    "            print(temp.data)\n",
    "            temp=temp.next# Cho con trỏ duyệt qua từng phần tử kế tiếp\n",
    "if __name__==\"__main__\":\n",
    "    llist=LinkedList()\n",
    "    #Cho dữ liệu vào vùng dữ liệu\n",
    "    llist.head=Node(1)\n",
    "    sencond=Node(2)\n",
    "    third=Node(3)\n",
    "    # Cho con trỏ nó trỏ tới vùng dữ liệu kế tiếp\n",
    "    llist.head.next=sencond\n",
    "    sencond.next=third\n",
    "    llist.printList()"
   ]
  },
  {
   "cell_type": "markdown",
   "metadata": {},
   "source": [
    "### Chèn phần tử node vào đầu danh sách\n",
    "\n",
    "Gồm các bước sau:\n",
    "+ Cho phần tử mới vào node.\n",
    "+ Sau đó node mới tạo trỏ tới phần tử đầu tiên lúc đầu (sau head).\n",
    "+ Tăng số phần tử hiện tại của danh sách."
   ]
  },
  {
   "cell_type": "code",
   "execution_count": 16,
   "metadata": {},
   "outputs": [
    {
     "name": "stdout",
     "output_type": "stream",
     "text": [
      "4\n",
      "1\n",
      "2\n",
      "3\n"
     ]
    }
   ],
   "source": [
    "class Node:\n",
    "    def __init__(self,data):\n",
    "        self.data=data\n",
    "        self.next=None\n",
    "class LinkedList:\n",
    "    def __init__(self):\n",
    "        self.head=None\n",
    "    def InsertFirst(self,new_data):\n",
    "        #Thêm dữ liệu vào node mới\n",
    "        new_node=Node(new_data)\n",
    "        #Chỉ định con nằm sau head\n",
    "        new_node.next=self.head\n",
    "        self.head=new_node\n",
    "    def printList(self):\n",
    "        temp=self.head\n",
    "        while (temp):\n",
    "            print(temp.data)\n",
    "            temp=temp.next\n",
    "if __name__==\"__main__\":\n",
    "    llist=LinkedList()\n",
    "    llist.head=Node(1)\n",
    "    sencond=Node(2)\n",
    "    third=Node(3)\n",
    "    llist.head.next=sencond\n",
    "    sencond.next=third\n",
    "    llist.InsertFirst(4)\n",
    "    llist.printList()    "
   ]
  },
  {
   "cell_type": "markdown",
   "metadata": {},
   "source": [
    "### Chèn phần tử vào cuối danh sách\n",
    "Gồm các bước sau:\n",
    "+ Khởi tạo phần tử mới vào node.\n",
    "+ Kiểm tra phần tử đầu có phải là null nếu là null thì thêm ở head.\n",
    "+ Ngược lại head là cuối.\n",
    "+ Cho con trỏ chạy từ đầu đến cuối danh sách.\n",
    "+ Phần tử cuối sẽ được chọn là node mới."
   ]
  },
  {
   "cell_type": "code",
   "execution_count": 17,
   "metadata": {},
   "outputs": [
    {
     "name": "stdout",
     "output_type": "stream",
     "text": [
      "1\n",
      "2\n",
      "3\n",
      "4\n"
     ]
    }
   ],
   "source": [
    "class Node:\n",
    "    def __init__(self,data):\n",
    "        self.data=data\n",
    "        self.next=None\n",
    "        \n",
    "class LinkedList:\n",
    "    def __init__(self):\n",
    "        self.head=None\n",
    "     \n",
    "    def InsertEnd(self,new_data):\n",
    "        new_node=Node(new_data)\n",
    "        if self.head is None:\n",
    "            self.head=new_node\n",
    "            return\n",
    "        last=self.head\n",
    "        while (last.next):\n",
    "            last=last.next\n",
    "        last.next=new_node\n",
    "    def printList(self):\n",
    "        temp=self.head\n",
    "        while (temp):\n",
    "            print(temp.data)\n",
    "            temp=temp.next\n",
    "if __name__==\"__main__\":\n",
    "    llist=LinkedList()\n",
    "    llist.head=Node(1)\n",
    "    sencond=Node(2)\n",
    "    third=Node(3)\n",
    "    llist.head.next=sencond\n",
    "    sencond.next=third\n",
    "    llist.InsertEnd(4)\n",
    "    llist.printList()"
   ]
  },
  {
   "cell_type": "markdown",
   "metadata": {},
   "source": [
    "### Thêm phần tử vào giữa danh sách\n",
    "Gồm các bước sau:\n",
    "+ Kiểm tra nút phía trước có rỗng không. \n",
    "+ Khởi tạo nút mới.\n",
    "+ Cho con trỏ nút mới và nút pre dịch sang phải. \n",
    "+ Cho con trỏ nút pre trỏ tới nút mới."
   ]
  },
  {
   "cell_type": "code",
   "execution_count": 18,
   "metadata": {},
   "outputs": [
    {
     "name": "stdout",
     "output_type": "stream",
     "text": [
      "1\n",
      "2\n",
      "5\n",
      "3\n"
     ]
    }
   ],
   "source": [
    "class Node:\n",
    "    def __init__(self,data):\n",
    "        self.data=data\n",
    "        self.next=None\n",
    "        \n",
    "class LinkedList:\n",
    "    def __init__(self):\n",
    "        self.head=None\n",
    "    def InsertBetween(self,pre_node,new_data):\n",
    "        if pre_node is None:\n",
    "            print(\"Nút phía trước rỗng\")\n",
    "            return\n",
    "        new_node=Node(new_data)\n",
    "        new_node.next=pre_node.next\n",
    "        pre_node.next=new_node\n",
    "    def printList(self):\n",
    "        temp=self.head\n",
    "        while (temp):\n",
    "            print(temp.data)\n",
    "            temp=temp.next\n",
    "if __name__==\"__main__\":\n",
    "    llist=LinkedList()\n",
    "    llist.head=Node(1)\n",
    "    sencond=Node(2)\n",
    "    third=Node(3)\n",
    "    llist.head.next=sencond\n",
    "    sencond.next=third\n",
    "    llist.InsertBetween(sencond,5)\n",
    "    llist.printList()        "
   ]
  },
  {
   "cell_type": "markdown",
   "metadata": {},
   "source": [
    "### Loại bỏ phần tử khỏi danh sách\n",
    "Gồm các bước sau:\n",
    "+ Gán biến temp cho head.\n",
    "+ Nếu biến temp khác rỗng và dữ liệu bằng key thì bắt đầu duyệt các phần tử bằng con trỏ.\n",
    "+ Duyệt tới phần tử có key thì thoát khỏi.\n",
    "+ Tăng con trỏ lên khi duyệt xong của node trước và node duyệt."
   ]
  },
  {
   "cell_type": "code",
   "execution_count": 19,
   "metadata": {},
   "outputs": [
    {
     "name": "stdout",
     "output_type": "stream",
     "text": [
      "1\n",
      "3\n"
     ]
    }
   ],
   "source": [
    "class Node:\n",
    "    def __init__(self,data):\n",
    "        self.data=data\n",
    "        self.next=None\n",
    "        \n",
    "class LinkedList:\n",
    "    def __init__(self):\n",
    "        self.head=None\n",
    "    def RemoveNode(self,key):\n",
    "        temp=self.head\n",
    "        if (temp):\n",
    "            if temp.data==key:\n",
    "                self.head=temp.next\n",
    "                temp=None\n",
    "                return\n",
    "        while (temp):\n",
    "            if temp.data==key:\n",
    "                break\n",
    "            prev=temp\n",
    "            temp=temp.next\n",
    "        if temp==None:\n",
    "            return\n",
    "        prev.next=temp.next\n",
    "        temp=None\n",
    "    def printList(self):\n",
    "        temp=self.head\n",
    "        while (temp):\n",
    "            print(temp.data)\n",
    "            temp=temp.next\n",
    "if __name__==\"__main__\":\n",
    "    llist=LinkedList()\n",
    "    llist.head=Node(1)\n",
    "    sencond=Node(2)\n",
    "    third=Node(3)\n",
    "    llist.head.next=sencond\n",
    "    sencond.next=third\n",
    "    llist.RemoveNode(2)\n",
    "    llist.printList()"
   ]
  },
  {
   "cell_type": "markdown",
   "metadata": {},
   "source": [
    "## Tìm kiếm khóa trong danh sách\n",
    "Gồm các bước sau:\n",
    "+ Gán biến current cho head.\n",
    "+ Nếu current khác rỗng và dữ liệu bằng key trả về True.\n",
    "+ Ngược lại tiếp tục duyệt current trong danh sách tới phần tử cuối cùng."
   ]
  },
  {
   "cell_type": "code",
   "execution_count": 20,
   "metadata": {},
   "outputs": [
    {
     "name": "stdout",
     "output_type": "stream",
     "text": [
      "True\n"
     ]
    }
   ],
   "source": [
    "class Node:\n",
    "    def __init__(self,data):\n",
    "        self.data=data\n",
    "        self.next=None\n",
    "        \n",
    "class LinkedList:\n",
    "    def __init__(self):\n",
    "        self.head=None\n",
    "    def search(self,key):\n",
    "        current=self.head\n",
    "        while (current):\n",
    "            if current.data==key:\n",
    "                return True\n",
    "            current=current.next\n",
    "        return False\n",
    "    def printList(self):\n",
    "        temp=self.head\n",
    "        while (temp):\n",
    "            print(temp.data)\n",
    "            temp=temp.next\n",
    "if __name__==\"__main__\":\n",
    "    llist=LinkedList()\n",
    "    llist.head=Node(1)\n",
    "    sencond=Node(2)\n",
    "    third=Node(3)\n",
    "    llist.head.next=sencond\n",
    "    sencond.next=third\n",
    "    print(llist.search(3))       "
   ]
  },
  {
   "cell_type": "markdown",
   "metadata": {},
   "source": [
    "**Ưu điểm và nhược điểm của danh sách liên kết**\n",
    "\n",
    "**Ưu điểm:** \n",
    "\n",
    "Tiết kiếm bộ nhớ và cấp phát động, không như array cần 1 lượng chỉ định ô nhớ trên bộ nhớ ngay khi khỏi tạo. Linked list chỉ sử dụng bộ nhớ để lưu trữ khi dữ liệu thực sự được lưu vào linked list.\n",
    "\n",
    "**Nhược điểm:**\n",
    "\n",
    "+ Khoảng trống: Một nửa không gian bị lãng phí trên con trỏ khi cần lưu trữ địa chỉ của giá trị tiếp theo (địa chỉ của máy tính hiện đại là 8 byte)\n",
    "\n",
    "+ Truy xuất chậm: khi cần phải nhảy ở đây và ở đó trong bộ nhớ (Mảng bạn có thể liên tục tìm kiếm và truy xuất, ví dụ phần tử thứ 30 = bắt đầu addr + 30x4 - O (1))"
   ]
  },
  {
   "cell_type": "markdown",
   "metadata": {},
   "source": [
    "# 4. Danh sách liên kết vòng\n",
    "\n",
    "Là một danh sách được liên kết trong đó tất cả các nút được kết nối để tạo thành một vòng kết nối và **không có NULL ở cuối.**"
   ]
  },
  {
   "cell_type": "markdown",
   "metadata": {},
   "source": [
    "<img align=\"left\" width=\"500\" height=\"500\" src=\"images/circular-singly-linked-list.png\">"
   ]
  },
  {
   "cell_type": "code",
   "execution_count": 21,
   "metadata": {},
   "outputs": [
    {
     "name": "stdout",
     "output_type": "stream",
     "text": [
      "Thêm các key vào danh sách\n",
      "12\n",
      "78\n",
      "56\n"
     ]
    }
   ],
   "source": [
    "class Node:\n",
    "    def __init__(self, data):\n",
    "        self.data = data\n",
    "        self.next = None\n",
    "class CircularLinkedList:  \n",
    "    def __init__(self):\n",
    "        self.head = None\n",
    "    def add_data(self, data):\n",
    "        # Cho pointer_1 chạy\n",
    "        ptr_1 = Node(data)\n",
    "        temp = self.head    \n",
    "        ptr_1.next = self.head\n",
    "\n",
    "        if self.head is not None:\n",
    "            while(temp.next != self.head):\n",
    "                temp = temp.next\n",
    "            temp.next = ptr_1\n",
    "        else:\n",
    "            ptr_1.next = ptr_1\n",
    "        self.head = ptr_1\n",
    "    def printList(self):\n",
    "        temp = self.head\n",
    "        if self.head is not None:\n",
    "            while(True):\n",
    "                print(\"%d\" %(temp.data)),\n",
    "                temp = temp.next\n",
    "                if (temp == self.head):\n",
    "                    break\n",
    "if __name__==\"__main__\":\n",
    "    cir_list = CircularLinkedList()\n",
    "    print(\"Thêm các key vào danh sách\")\n",
    "    cir_list.add_data(56)\n",
    "    cir_list.add_data(78)\n",
    "    cir_list.add_data(12)\n",
    "    cir_list.printList()"
   ]
  },
  {
   "cell_type": "markdown",
   "metadata": {},
   "source": [
    "# 5. Danh sách liên kết kép\n",
    "\n",
    "Là một danh sách mà mỗi phần tử có hai vùng liên kết: \n",
    "\n",
    "Vùng liên kết trỏ đến phần tử kề sau **(next pointer)** và vùng liên kết trỏ đến phần tử liền trước **(previous pointer).**\n"
   ]
  },
  {
   "cell_type": "markdown",
   "metadata": {},
   "source": [
    "<img align=\"left\" width=\"500\" height=\"500\" src=\"images/Double_LinkedList.jpg\">"
   ]
  },
  {
   "cell_type": "markdown",
   "metadata": {},
   "source": [
    "## Tạo danh sách rỗng và thêm phần tử vào"
   ]
  },
  {
   "cell_type": "code",
   "execution_count": 22,
   "metadata": {},
   "outputs": [
    {
     "name": "stdout",
     "output_type": "stream",
     "text": [
      "Các phần tử được thêm của danh sách là:\n",
      "62\n",
      "8\n",
      "12\n"
     ]
    }
   ],
   "source": [
    "class Node:\n",
    "    def __init__(self, data):\n",
    "        self.data = data\n",
    "        self.next = None\n",
    "        self.prev = None\n",
    "\n",
    "class Doubly_Linked_List:\n",
    "    def __init__(self):\n",
    "        self.head = None\n",
    " \n",
    "    def push(self, NewVal):\n",
    "        NewNode = Node(NewVal)\n",
    "        NewNode.next = self.head\n",
    "        if self.head is not None:\n",
    "            self.head.prev = NewNode\n",
    "        self.head = NewNode\n",
    "    def printList(self, node):\n",
    "        while (node is not None):\n",
    "            print(node.data)\n",
    "            last = node\n",
    "            node = node.next\n",
    "if __name__==\"__main__\":\n",
    "    dllist = Doubly_Linked_List()\n",
    "    print(\"Các phần tử được thêm của danh sách là:\")\n",
    "    dllist.push(12)\n",
    "    dllist.push(8)\n",
    "    dllist.push(62)\n",
    "    dllist.printList(dllist.head)"
   ]
  },
  {
   "cell_type": "markdown",
   "metadata": {},
   "source": [
    "## Chèn phần tử vào danh sách"
   ]
  },
  {
   "cell_type": "code",
   "execution_count": 23,
   "metadata": {},
   "outputs": [
    {
     "name": "stdout",
     "output_type": "stream",
     "text": [
      "Phần tử 13 được thêm vào danh sách:\n",
      "62\n",
      "8\n",
      "13\n",
      "12\n"
     ]
    }
   ],
   "source": [
    "class Node:\n",
    "    def __init__(self, data):\n",
    "        self.data = data\n",
    "        self.next = None\n",
    "        self.prev = None\n",
    "\n",
    "class Doubly_Linked_List:\n",
    "    def __init__(self):\n",
    "        self.head = None\n",
    " \n",
    "    def push(self, NewVal):\n",
    "        NewNode = Node(NewVal)\n",
    "        NewNode.next = self.head\n",
    "        if self.head is not None:\n",
    "            self.head.prev = NewNode\n",
    "        self.head = NewNode\n",
    "    def insert(self, prev_node, NewVal):\n",
    "        if prev_node is None:\n",
    "            return\n",
    "        NewNode = Node(NewVal)\n",
    "        NewNode.next = prev_node.next\n",
    "        prev_node.next = NewNode\n",
    "        NewNode.prev = prev_node\n",
    "        if NewNode.next is not None:\n",
    "            NewNode.next.prev = NewNode\n",
    "    def printList(self, node):\n",
    "        while (node is not None):\n",
    "            print(node.data),\n",
    "            last = node\n",
    "            node = node.next\n",
    "if __name__==\"__main__\":\n",
    "    dllist = Doubly_Linked_List()\n",
    "    dllist.push(12)\n",
    "    dllist.push(8)\n",
    "    dllist.push(62)\n",
    "    dllist.insert(dllist.head.next, 13)\n",
    "    print(\"Phần tử 13 được thêm vào danh sách:\")\n",
    "    dllist.printList(dllist.head)"
   ]
  },
  {
   "cell_type": "markdown",
   "metadata": {},
   "source": [
    "## Thêm phần tử vào danh sách"
   ]
  },
  {
   "cell_type": "code",
   "execution_count": 24,
   "metadata": {},
   "outputs": [
    {
     "name": "stdout",
     "output_type": "stream",
     "text": [
      "Các phần tử 4 và 45 được thêm vào cuối danh sách:\n",
      "62\n",
      "8\n",
      "12\n",
      "4\n",
      "45\n"
     ]
    }
   ],
   "source": [
    "class Node:\n",
    "    def __init__(self, data):\n",
    "        self.data = data\n",
    "        self.next = None\n",
    "        self.prev = None\n",
    "\n",
    "class Doubly_Linked_List:\n",
    "    def __init__(self):\n",
    "        self.head = None\n",
    " \n",
    "    def push(self, NewVal):\n",
    "        NewNode = Node(NewVal)\n",
    "        NewNode.next = self.head\n",
    "        if self.head is not None:\n",
    "            self.head.prev = NewNode\n",
    "        self.head = NewNode\n",
    "    def append(self, NewVal):\n",
    "        NewNode = Node(NewVal)\n",
    "        NewNode.next = None\n",
    "        if self.head is None:\n",
    "            NewNode.prev = None\n",
    "            self.head = NewNode\n",
    "            return\n",
    "        last = self.head\n",
    "        while (last.next is not None):\n",
    "            last = last.next\n",
    "        last.next = NewNode\n",
    "        NewNode.prev = last\n",
    "        return\n",
    "\n",
    "    def printList(self, node):\n",
    "        while (node is not None):\n",
    "            print(node.data)\n",
    "            last = node\n",
    "            node = node.next\n",
    "if __name__==\"__main__\":\n",
    "    dllist = Doubly_Linked_List()\n",
    "    dllist.push(12)\n",
    "    dllist.append(4)\n",
    "    dllist.push(8)\n",
    "    dllist.push(62)\n",
    "    dllist.append(45)\n",
    "    print(\"Các phần tử 4 và 45 được thêm vào cuối danh sách:\")\n",
    "    dllist.printList(dllist.head)"
   ]
  },
  {
   "cell_type": "markdown",
   "metadata": {},
   "source": [
    "# 4. So sánh giữa mảng và danh sách liên kết"
   ]
  },
  {
   "cell_type": "markdown",
   "metadata": {},
   "source": [
    "<img align=\"left\" width=\"500\" height=\"500\" src=\"images/compare_linkedlist_array.png\">"
   ]
  },
  {
   "cell_type": "code",
   "execution_count": null,
   "metadata": {},
   "outputs": [],
   "source": []
  }
 ],
 "metadata": {
  "kernelspec": {
   "display_name": "Python 3",
   "language": "python",
   "name": "python3"
  },
  "language_info": {
   "codemirror_mode": {
    "name": "ipython",
    "version": 3
   },
   "file_extension": ".py",
   "mimetype": "text/x-python",
   "name": "python",
   "nbconvert_exporter": "python",
   "pygments_lexer": "ipython3",
   "version": "3.7.0"
  }
 },
 "nbformat": 4,
 "nbformat_minor": 2
}

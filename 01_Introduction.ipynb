{
 "cells": [
  {
   "cell_type": "markdown",
   "metadata": {},
   "source": [
    "# 1. Kiểu dữ liệu là gì?\n",
    "\n",
    "Là quy định cách biểu diễn giá trị của dữ liệu và cách xử lý dữ liệu.\n",
    "\n",
    "Kiểu dữ liệu gồm hai phần:\n",
    "+ Giá trị của kiểu dữ liệu\n",
    "+ Các toán tử thực hiện trên kiểu dữ liệu này\n",
    "\n",
    "Một số kiểu dữ liệu cơ bản như interger, float, boolean, string, ...\n",
    "\n",
    "Các toán tử đơn giản như +, -, *, /, //, <..."
   ]
  },
  {
   "cell_type": "markdown",
   "metadata": {},
   "source": [
    "# 2. Cấu trúc dữ liệu là gì?"
   ]
  },
  {
   "cell_type": "markdown",
   "metadata": {},
   "source": [
    "Cấu trúc dữ liệu là khái niệm cơ bản của khoa học máy tính bằng cách lưu trữ, **tổ chức dữ liệu có thứ tự** giúp viết các **chương trình hiệu quả**. Python là một ngôn ngữ lập trình cấp cao, sử dụng trình thông dịch interpeter, tương tác và hướng đối tượng bằng cách sử dụng mà chúng ta có thể nghiên cứu các nguyên tắc cơ bản của cấu trúc dữ liệu theo cách đơn giản hơn so với các ngôn ngữ lập trình khác.\n",
    "\n",
    "Trong chương này, chúng ta sẽ nghiên cứu tổng quan ngắn gọn về một số cấu trúc dữ liệu thường được sử dụng nói chung và cách chúng liên quan đến một số kiểu dữ liệu python cụ thể. Ngoài ra còn có một số cấu trúc dữ liệu dành riêng cho python như list, tuple, dictionary, ...\n",
    "\n",
    "**Trước hết ta tìm hiểu con trỏ:**\n",
    "\n",
    "Con trỏ pointer là một đối tượng của ngôn ngữ lập trình mà giá trị của nó là một địa chỉ dùng để tham khảo trực tiếp đến một vị trí của ô nhớ nào đó trong máy tính."
   ]
  },
  {
   "cell_type": "markdown",
   "metadata": {},
   "source": [
    "<img align=\"left\" width=\"500\" height=\"500\" src=\"https://media.geeksforgeeks.org/wp-content/uploads/pointers-in-c.png\">"
   ]
  },
  {
   "cell_type": "markdown",
   "metadata": {},
   "source": [
    "Con trỏ có thể sử dụng để tạo ra các cấu trúc dữ liệu động như danh sách liên kết, ngăn xếp, hàng đợi, cây..."
   ]
  },
  {
   "cell_type": "markdown",
   "metadata": {},
   "source": [
    "## Các cấu trúc dữ liệu trong khoa học máy tính được chia thành hai loại:"
   ]
  },
  {
   "cell_type": "markdown",
   "metadata": {},
   "source": [
    "### Cấu trúc dữ liệu tuyến tính\n",
    "\n",
    "Đây là các cấu trúc dữ liệu các phần tử nối tiếp nhau và lưu trữ cách một cách **tuần tự.**\n",
    "\n",
    "+ **Mảng(Array):** Các phần tử sắp xếp tuần tự , mỗi phần tử dữ liệu có một index được đánh số từ 0 đến n-1 với n là số chiều dài của mảng.\n",
    "\n",
    "+ **Danh sách được Liên kết(Linked List):** Mỗi phần tử dữ liệu chứa một liên kết đến một phần tử khác cùng với dữ liệu có trong đó.\n",
    "\n",
    "+ **Ngăn xếp(Stack):** Nó là một cấu trúc dữ liệu hoạt động tuân theo cơ chế LIFO (Last In-Frist Out) vào sau ra trước hoặc FILO (First In-Last Out) vào trước, ra sao.\n",
    "\n",
    "+ **Hàng đợi(Queue):** Nó tương tự như Stack nhưng thứ tự hoạt động chỉ là FIFO (First In First Out) vào trước, ra trước.\n"
   ]
  },
  {
   "cell_type": "markdown",
   "metadata": {},
   "source": [
    "### Cấu trúc dữ liệu phi tuyến tính\n",
    "\n",
    "Đây là những cấu trúc dữ liệu trong đó các phần tử **không tạo thành các dãy nối tiếp nhau**, mỗi phần tử có thể có nhiều phần tử đi sau nó.\n",
    "\n",
    "+ **Cây nhị phân(Binary Tree):** Là một cấu trúc dữ liệu trong đó mỗi phần tử dữ liệu có thể được kết nối với tối đa hai phần tử dữ liệu khác và nó bắt đầu bằng một nút gốc.\n",
    "\n",
    "+ **Đống(Heap):** - Đây là một trường hợp đặc biệt của cấu trúc dữ liệu cây trong đó dữ liệu trong nút cha lớn hơn hoặc bằng các nút con hoặc nhỏ hơn các nút con của nó.\n",
    "\n",
    "+ **Bảng băm(Hash Table):** Là một cấu trúc dữ liệu được tạo bởi các mảng được liên kết với nhau bằng cách sử dụng một hàm băm. Nó truy xuất các giá trị bằng cách sử dụng các khóa chứ không phải chỉ mục từ một phần tử dữ liệu.\n",
    "\n",
    "+ **Đồ thị(Graph):** Nó là một sự sắp xếp của các đỉnh và các nút trong đó một số các nút được kết nối với nhau thông qua các liên kết."
   ]
  },
  {
   "cell_type": "markdown",
   "metadata": {},
   "source": []
  }
 ],
 "metadata": {
  "kernelspec": {
   "display_name": "Python 3",
   "language": "python",
   "name": "python3"
  },
  "language_info": {
   "codemirror_mode": {
    "name": "ipython",
    "version": 3
   },
   "file_extension": ".py",
   "mimetype": "text/x-python",
   "name": "python",
   "nbconvert_exporter": "python",
   "pygments_lexer": "ipython3",
   "version": "3.7.0"
  }
 },
 "nbformat": 4,
 "nbformat_minor": 2
}

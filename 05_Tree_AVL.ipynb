{
 "cells": [
  {
   "cell_type": "markdown",
   "metadata": {},
   "source": [
    "# 1. Giới thiệu\n",
    "Khi tạo cây nhị phân tìm kiếm có một vài trường hợp xài thuật toán tìm kiếm khóa key dẫn đến độ phức tạp của thuật toán tuyến tính ví dụ như cây chỉ nhánh bên phải hoặc cây chỉ có nhánh bên trái.\n",
    "\n",
    "Để tránh khắc phục tình trạng này người ta nghĩ ra cấu trúc dữ liệu mà tại mọi nút thì **chiều cao của hai cây con bên trái và bên phải hơn kém nhau không quá 1**."
   ]
  },
  {
   "cell_type": "markdown",
   "metadata": {},
   "source": [
    "<img align=\"left\" width=\"500\" height=\"500\" src=\"images/Balanced_Tree_png.png\">"
   ]
  },
  {
   "cell_type": "markdown",
   "metadata": {},
   "source": [
    "**Hệ số cân bằng được tính:** `banlancefator(N)=hR(N)-hL(N)`\n",
    "\n",
    "**Trong đó:**\n",
    "\n",
    "hR(N), hL(N) là chiều cao cây con phải và trái."
   ]
  },
  {
   "cell_type": "markdown",
   "metadata": {},
   "source": [
    "**Xét hình bên trái:**\n",
    "\n",
    "+ Tại nút 2: chiều cao cây con trái là 0, chiều cao cây con phải là 1 suy ra cây nút 2 là cân bằng.\n",
    "+ Tại nút 5: chiều cao cây con trái là 1, chiều cao cây con phải là 1 suy ra cây nút 5 là cân bằng.\n",
    "+ Tại nút 3: chiều cao cây con trái là 2, chiều cao cây con phải là 1 suy ra cây nút 3 cân bằng.\n",
    "+ Tại nút 1: chiều cao cây con trái là 2, chiều cao cây con phải là 3 suy ra cây nút 7 cân bằng.\n",
    "\n",
    "**Xét hình bên phải:**\n",
    "+ Tại nút 1: chiều cao cây con trái là 1, chiều cao cây con phải là 3 suy ra **cây nút 7 bị mất cân bằng.**"
   ]
  },
  {
   "cell_type": "markdown",
   "metadata": {},
   "source": [
    "# 2. Cấu trúc dữ liệu\n",
    "+ Key: Chứa khóa của nút\n",
    "+ Count: Chứa số lần xuất hiện của khóa này\n",
    "+ Height: Chứa chiều cao của nút\n",
    "+ Left: Con trỏ nút con trái\n",
    "+ Right: Con trỏ nút con phải"
   ]
  },
  {
   "cell_type": "markdown",
   "metadata": {},
   "source": [
    "# 3. Các thao tác với cây cân bằng AVL\n",
    "+ Khởi tạo cây\n",
    "+ Thêm khóa vào cây\n",
    "    + Phép quay cây con trái\n",
    "    + Phép quay cây con phải\n",
    "+ Tìm kiếm khóa trong cây\n",
    "+ Duyệt cây"
   ]
  },
  {
   "cell_type": "markdown",
   "metadata": {},
   "source": [
    "### Kiểm tra cây có cân bằng hay không"
   ]
  },
  {
   "cell_type": "code",
   "execution_count": 1,
   "metadata": {},
   "outputs": [
    {
     "name": "stdout",
     "output_type": "stream",
     "text": [
      "Balanced\n"
     ]
    }
   ],
   "source": [
    "class treenode:\n",
    "    def __init__(self, data):\n",
    "        self.data = data\n",
    "        self.left = None\n",
    "        self.right = None\n",
    "class height:\n",
    "    def __init__(self):\n",
    "        self.height = 0\n",
    "def isBalanced(root):\n",
    "    lh = height()\n",
    "    rh = height()\n",
    "    if root is None:\n",
    "        return True\n",
    "    return ((abs(lh.height - rh.height) <= 1) and isBalanced(root.left)\n",
    "            and isBalanced(root.right))\n",
    "\n",
    "root = treenode(1)\n",
    "root.left = treenode(2)\n",
    "root.right = treenode(3)\n",
    "root.left.left = None\n",
    "root.left.right = None\n",
    "root.right.left = treenode(6)\n",
    "root.right.right = treenode(7)\n",
    "\n",
    "if isBalanced(root):\n",
    "    print(\"Balanced\")\n",
    "else:\n",
    "    print(\"Not Balanced\")"
   ]
  },
  {
   "cell_type": "code",
   "execution_count": null,
   "metadata": {},
   "outputs": [],
   "source": []
  }
 ],
 "metadata": {
  "kernelspec": {
   "display_name": "Python 3",
   "language": "python",
   "name": "python3"
  },
  "language_info": {
   "codemirror_mode": {
    "name": "ipython",
    "version": 3
   },
   "file_extension": ".py",
   "mimetype": "text/x-python",
   "name": "python",
   "nbconvert_exporter": "python",
   "pygments_lexer": "ipython3",
   "version": "3.7.0"
  }
 },
 "nbformat": 4,
 "nbformat_minor": 2
}

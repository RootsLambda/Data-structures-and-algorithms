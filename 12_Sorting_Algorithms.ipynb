{
 "cells": [
  {
   "cell_type": "markdown",
   "metadata": {},
   "source": [
    "# 1. Định nghĩa sắp xếp\n",
    "Để tìm kiếm dữ liệu nhanh ta phải sắp xếp thứ tự dữ liệu theo thứ tự tăng dần hoặc giảm dần.\n",
    "\n",
    "Tầm quan trọng của việc sắp xếp nằm ở chỗ, việc tìm kiếm dữ liệu có thể được tối ưu hóa ở mức rất cao, nếu dữ liệu được lưu trữ theo cách được sắp xếp. Sắp xếp cũng được sử dụng để thể hiện dữ liệu ở các định dạng dễ đọc hơn.\n",
    "\n",
    "Theo cách thức sắp thứ tự các thuật toán sắp thứ tự mảng được phân chia thành các nhóm:\n",
    "\n",
    "+ Xen vào: Insertion Sort, Shell Sort...\n",
    "+ Chọn lựa: Selection Sort, Heap Sort...\n",
    "+ Đổi chổ: Bubble Sort, Quick Sort...\n",
    "+ Chia để trị: Merge Sort, Quick Sort, Shell Sort...\n",
    "+ Không so sánh: Radix Sort, Bucket Sort..."
   ]
  },
  {
   "cell_type": "markdown",
   "metadata": {},
   "source": [
    "# 2. Các thuật toán sắp xếp"
   ]
  },
  {
   "cell_type": "markdown",
   "metadata": {},
   "source": [
    "## Insertion Sort\n",
    "\n",
    "Xét dãy a0, a1, a2, ..., ai-1 có thứ tự tăng dần, ta tìm vị trí thích hợp trong dãy này để ai vào dãy so cho thành dãy a0, a1, a2, ..., ai có thứ tự tăng dần.\n",
    "\n",
    "### Mã giả:\n",
    "+ Cho x=ai\n",
    "+ Với j=i-1 phía bên trái ai: nếu khóa của aj > khóa của ai thì di chuyển aj qua phải gán aj cho aj+1 ngược lại gán ai bằng aj+1"
   ]
  },
  {
   "cell_type": "markdown",
   "metadata": {},
   "source": [
    "<img align=\"left\" width=\"500\" height=\"500\" src=\"images/Insertion_sort.png\">"
   ]
  },
  {
   "cell_type": "code",
   "execution_count": 1,
   "metadata": {},
   "outputs": [
    {
     "name": "stdout",
     "output_type": "stream",
     "text": [
      "[2, 11, 19, 27, 30, 31, 45, 121]\n"
     ]
    }
   ],
   "source": [
    "def insertion_sort(array):\n",
    "    for i in range(1, len(array)):\n",
    "        j = i-1\n",
    "        element_i = array[i]\n",
    "   # So sánh element thứ i với array[i-1]\n",
    "        while (array[j] > element_i) and (j >= 0): # j>=0 là điều kiện tiếp tục ngược lại j<0 chính là dk thoát lặp while\n",
    "            array[j+1] = array[j] #Đổi chổ\n",
    "            j=j-1\n",
    "        array[j+1] = element_i\n",
    "list_A = [19,2,31,45,30,11,121,27]\n",
    "insertion_sort(list_A)\n",
    "print(list_A)"
   ]
  },
  {
   "cell_type": "markdown",
   "metadata": {},
   "source": [
    "### Nhận xét:\n",
    "+ Giải thuật InsertSort là ổn định\n",
    "\n",
    "+ Độ phức tạp: O(n^2)"
   ]
  },
  {
   "cell_type": "markdown",
   "metadata": {},
   "source": [
    "## Shell Sort\n",
    "Xét dãy ai, ai+k, ai+2k, ... có khoảng gap là k.\n",
    "\n",
    "Thuật toán shell sort là trường hợp tổng quát của insertion và insertion_sort có gap là 1.\n",
    "\n",
    "<img align=\"left\" width=\"500\" height=\"500\" src=\"images/Shell_Sort.jpg\">"
   ]
  },
  {
   "cell_type": "code",
   "execution_count": 2,
   "metadata": {},
   "outputs": [
    {
     "name": "stdout",
     "output_type": "stream",
     "text": [
      "[2, 11, 19, 27, 30, 31, 45, 121]\n"
     ]
    }
   ],
   "source": [
    "def ShellSort(array):\n",
    "    gap = len(array) // 2\n",
    "    while gap > 0:\n",
    "        for i in range(gap, len(array)):\n",
    "            temp = array[i]\n",
    "            j = i\n",
    "            while j >= gap and array[j - gap] > temp: # Tìm gap tối ưu mà có thể sắp xếp\n",
    "                array[j] = array[j - gap]\n",
    "                j = j-gap\n",
    "                array[j] = temp\n",
    "        gap = gap//2\n",
    "list_A = [19,2,31,45,30,11,121,27]\n",
    "ShellSort(list_A)\n",
    "print(list_A)"
   ]
  },
  {
   "cell_type": "markdown",
   "metadata": {},
   "source": [
    "## Nhận xét:\n",
    "+ Giải thuật Shell Sort không ổn định\n",
    "+ Độ phức tạp: $O(n*log_2{n})$"
   ]
  },
  {
   "cell_type": "markdown",
   "metadata": {},
   "source": [
    "## Selection Sort\n",
    "Xét dãy ai, ai+1,..., an-1 ta tìm amin nhỏ nhất hoán đổi với ai.\n",
    "\n",
    "<img align=\"left\" width=\"500\" height=\"500\" src=\"images/Selection_Sort.jpg\">"
   ]
  },
  {
   "cell_type": "code",
   "execution_count": 3,
   "metadata": {},
   "outputs": [
    {
     "name": "stdout",
     "output_type": "stream",
     "text": [
      "[2, 11, 19, 27, 30, 31, 45, 121]\n"
     ]
    }
   ],
   "source": [
    "def Selection_sort(array):\n",
    "    for i in range(len(array)):\n",
    "        min_id = i\n",
    "        for j in range(i+1, len(array)):\n",
    "            if array[min_id] > array[j]:\n",
    "                min_id = j\n",
    "\n",
    "            array[i], array[min_id] = array[min_id], array[i]\n",
    "l = [19,2,31,45,30,11,121,27]\n",
    "Selection_sort(l)\n",
    "print(l)"
   ]
  },
  {
   "cell_type": "markdown",
   "metadata": {},
   "source": [
    "### Nhận xét:\n",
    "+ Thuật toán Selection Sort là ổn định\n",
    "+ Độ phúc tạp: O(n^2)"
   ]
  },
  {
   "cell_type": "markdown",
   "metadata": {},
   "source": [
    "## Bubble Sort\n",
    "Ta duyệt ngược dãy ai, ai+1,... ,an-1 từ dưới lên trên \n",
    "\n",
    "Nếu khóa aj nhỏ hơn khóa aj-1 thì ta hoán đổi aj với aj-1\n",
    "\n",
    "<img align=\"left\" width=\"500\" height=\"500\" src=\"images/Bubble_Sort.png\">"
   ]
  },
  {
   "cell_type": "code",
   "execution_count": 4,
   "metadata": {},
   "outputs": [
    {
     "name": "stdout",
     "output_type": "stream",
     "text": [
      "[2, 6, 11, 19, 27, 31, 45, 121]\n"
     ]
    }
   ],
   "source": [
    "def BubbleSort(array):\n",
    "    # Duyệt ngược từ a[n-1] đến a[i]\n",
    "    for iter_i in range(len(array)-1,0,-1):\n",
    "        for i in range(iter_i):\n",
    "            if array[i]>array[i+1]:\n",
    "                # Swap a[i] với a[i+1]\n",
    "                temp = array[i]\n",
    "                array[i] = array[i+1]\n",
    "                array[i+1] = temp\n",
    "list_A = [19,2,31,45,6,11,121,27]\n",
    "BubbleSort(list_A)\n",
    "print(list_A)"
   ]
  },
  {
   "cell_type": "markdown",
   "metadata": {},
   "source": [
    "### Nhận xét:\n",
    "+ Giải thuật Bubble Sort là ổn định\n",
    "+ Độ phức tạp: O(n^2)"
   ]
  },
  {
   "cell_type": "markdown",
   "metadata": {},
   "source": [
    "## Quick Sort\n",
    "\n",
    "Thuật toán được lấy ý tưởng từ bài tìm kiếm nhị phân cần thực hiện nhanh nhất để chia dãy đã cho thành 2 phần được ngăn cách bởi phần tử pivot.\n",
    "\n",
    "Phân đoạn dãy a_start và a_end thành hai dãy con:\n",
    "+ Bước 1: Chọn điểm pivot là khóa của một phần tử thuộc dãy để phân đoạn, thường ta sẽ chọn phần tử ở giữa của dãy\n",
    "+ Bước 2: Cho i di chuyển từ trái qua đến gặp khóa của a_i >= pivot. Cho j di chuyển từ phải qua đến khi gặp khóa của a_j <= pivot\n",
    "+ Bước 3: Nếu i<j, i chưa gặp j thì hoán đổi a_i và a_j, cho i qua phải và j qua trái. Nếu i >=j, i gặp j thì kết thúc giải thuật, ngược lại tới bước 2\n",
    "\n",
    "Kết thúc phân đoạn ta được hai dãy con:\n",
    "+ Dãy con 1 a_start đến a_j chứa các phần tử có khóa nhỏ hơn hoặc bằng pivot\n",
    "+ Dãy con a_j+1 đến a_end chưa các phần tử có khóa lơn hơn hoặc bằng pivot\n",
    "<img align=\"left\" width=\"500\" height=\"500\" src=\"images/Quick_Sort.png\">"
   ]
  },
  {
   "cell_type": "code",
   "execution_count": 5,
   "metadata": {},
   "outputs": [
    {
     "name": "stdout",
     "output_type": "stream",
     "text": [
      "[-1, 1, 2, 5, 9, 15, 99, 100]\n"
     ]
    }
   ],
   "source": [
    "def Partition(array,id_start,id_end):\n",
    "    pivot=array[id_end]\n",
    "    i=id_start-1\n",
    "    for j in range(id_start,id_end):\n",
    "        if array[j]<pivot:\n",
    "            i=i+1\n",
    "            array[i],array[j]=array[j],array[i]\n",
    "    if array[i+1]>array[id_end]:\n",
    "        array[i+1],array[id_end]=array[id_end],array[i+1]\n",
    "    return i+1\n",
    "def QuickSort(array,id_start,id_end):\n",
    "    if id_start<id_end:\n",
    "        Parti=Partition(array,id_start,id_end)\n",
    "        QuickSort(array,id_start,Parti-1)\n",
    "        QuickSort(array,Parti+1,id_end)\n",
    "array=[2,5,1,-1,100,99,15,9]\n",
    "QuickSort(array,0,len(array)-1)\n",
    "print(array)"
   ]
  },
  {
   "cell_type": "markdown",
   "metadata": {},
   "source": [
    "### Nhận xét:\n",
    "+ Giải thuật Quick Sort là không ổn định\n",
    "+ Độ phức tạp: $O(n*log_2{n})$"
   ]
  },
  {
   "cell_type": "markdown",
   "metadata": {},
   "source": [
    "# Merge Sort\n",
    "Đường chạy (run) là một dãy có thứ tự tăng dần. Chiều dài đường chạy là số phần tử của đường chạy này. Merge Sort lặp lại nhiều lần việc trộn hai đường chạy có chiều dài nhỏ hơn thành một đường chạy có chiều dài lớn hơn.\n",
    "<img align=\"left\" width=\"500\" height=\"500\" src=\"images/Merge_Sort.png\">"
   ]
  },
  {
   "cell_type": "code",
   "execution_count": 6,
   "metadata": {},
   "outputs": [
    {
     "name": "stdout",
     "output_type": "stream",
     "text": [
      "[11, 12, 22, 25, 34, 64, 90]\n"
     ]
    }
   ],
   "source": [
    "def merge_sort(array):\n",
    "    if len(array) <= 1:\n",
    "        return array\n",
    "    \n",
    "    middle = len(array) // 2\n",
    "    left_list = array[:middle]\n",
    "    right_list = array[middle:]\n",
    "\n",
    "    left_list = merge_sort(left_list)\n",
    "    right_list = merge_sort(right_list)\n",
    "    return merge(left_list, right_list)\n",
    "\n",
    "def merge(left_half, right_half):\n",
    "    results = []\n",
    "    while len(left_half) != 0 and len(right_half) != 0:\n",
    "        if left_half[0] < right_half[0]:\n",
    "            results.append(left_half[0])\n",
    "            left_half.remove(left_half[0])\n",
    "        else:\n",
    "            results.append(right_half[0])\n",
    "            right_half.remove(right_half[0])\n",
    "    if len(left_half) == 0:\n",
    "        results = results + right_half\n",
    "    else:\n",
    "        results = results + left_half\n",
    "    return results\n",
    "\n",
    "array =[64, 34, 25, 12, 22, 11, 90]\n",
    "print(merge_sort(array))"
   ]
  },
  {
   "cell_type": "markdown",
   "metadata": {},
   "source": [
    "### Nhận xét:\n",
    "+ Thuật toán Merge Sort là ổn định\n",
    "+ Độ phức tạp: $O(n*log_2{n})$"
   ]
  },
  {
   "cell_type": "markdown",
   "metadata": {},
   "source": [
    "## Radix Sort\n",
    "Là thuật toán sắp xếp thứ tự không cần so sánh, để sắp xếp thứ tự các khóa nguyên bằng cách gom nhóm các khóa theo các ký số riêng biệt mà chúng có cùng trọng số.\n",
    "\n",
    "Vì số nguyên có thể biểu diễn chuỗi ký tự, do đó Radix Sort không chỉ được dùng để sắp xếp thứ tự các số nguyên.\n",
    "<img align=\"left\" width=\"500\" height=\"500\" src=\"images/Radix_Sort.jpg\">"
   ]
  },
  {
   "cell_type": "code",
   "execution_count": 8,
   "metadata": {},
   "outputs": [
    {
     "name": "stdout",
     "output_type": "stream",
     "text": [
      "[1, 23, 45, 121, 432, 564, 788]\n"
     ]
    }
   ],
   "source": [
    "def countingSort(array, place):\n",
    "    size = len(array)\n",
    "    output = [0] * size\n",
    "    count = [0] * 10\n",
    "\n",
    "    # Đếm số lượng thành phần\n",
    "    for i in range(0, size):\n",
    "        index = array[i] // place\n",
    "        count[index % 10] += 1\n",
    "\n",
    "    #Tính số tích lũy\n",
    "    for i in range(1, 10):\n",
    "        count[i] += count[i - 1]\n",
    "\n",
    "    # Đặt các thành phần thứ tự đã sắp xếp\n",
    "    i = size - 1\n",
    "    while i >= 0:\n",
    "        index = array[i] // place\n",
    "        output[count[index % 10] - 1] = array[i]\n",
    "        count[index % 10] -= 1\n",
    "        i -= 1\n",
    "\n",
    "    for i in range(0, size):\n",
    "        array[i] = output[i]\n",
    "\n",
    "\n",
    "\n",
    "def radixSort(array):\n",
    "    # Lấy max của mảng\n",
    "    max_element = max(array)\n",
    "\n",
    "    # Tính toán đếm các thành phần của sort dựa trên vị trí\n",
    "    place = 1\n",
    "    while max_element // place > 0:\n",
    "        countingSort(array, place)\n",
    "        place *= 10\n",
    "\n",
    "data = [121, 432, 564, 23, 1, 45, 788]\n",
    "radixSort(data)\n",
    "print(data)"
   ]
  },
  {
   "cell_type": "markdown",
   "metadata": {},
   "source": [
    "### Nhận xét:\n",
    "+ Thuật toán Radix Sort là không ổn định\n",
    "+ Độ phức tạp: $O(n*log_b{n})$ với b là cơ số"
   ]
  },
  {
   "cell_type": "markdown",
   "metadata": {},
   "source": [
    "# 3. So sánh các thuật toán sắp xếp"
   ]
  },
  {
   "cell_type": "markdown",
   "metadata": {},
   "source": [
    "<img align=\"left\" width=\"500\" height=\"500\" src=\"images/Compare_Sort.jpg\">"
   ]
  },
  {
   "cell_type": "markdown",
   "metadata": {},
   "source": [
    "Nhìn vào bảng trên ta thấy thuật toán Quick Sort có độ phức tạp trung bình là O(n log(n))liệu có phải là nhanh nhất.\n",
    "\n",
    "Để trả lời cho câu hỏi này chúng ta sẽ xem tốc độ sắp xếp của các thuật toán dựa theo dữ liệu đầu vào của từng trường hợp.\n",
    "\n",
    "<img align=\"left\" width=\"600\" height=\"600\" src=\"https://miro.medium.com/max/1400/1*bPpvELo9_QqQsDz7CSbwXQ.gif\">"
   ]
  },
  {
   "cell_type": "markdown",
   "metadata": {},
   "source": [
    "Ta sẽ thấy tùy từng trường hợp khác nhau thì sẽ có 1 thuật toán sắp xếp có lợi hơn. Ví dụ với dữ liệu Nearly Sorted thì Insertion Sort là nhanh nhất nhưng khi với những kiểu dữ liệu phức tạp hơn thì Insertion Sort lại không phải là nhanh nhất."
   ]
  },
  {
   "cell_type": "code",
   "execution_count": null,
   "metadata": {},
   "outputs": [],
   "source": []
  }
 ],
 "metadata": {
  "kernelspec": {
   "display_name": "Python 3",
   "language": "python",
   "name": "python3"
  },
  "language_info": {
   "codemirror_mode": {
    "name": "ipython",
    "version": 3
   },
   "file_extension": ".py",
   "mimetype": "text/x-python",
   "name": "python",
   "nbconvert_exporter": "python",
   "pygments_lexer": "ipython3",
   "version": "3.7.0"
  }
 },
 "nbformat": 4,
 "nbformat_minor": 2
}
